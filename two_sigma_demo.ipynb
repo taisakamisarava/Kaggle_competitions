{
 "cells": [
  {
   "cell_type": "markdown",
   "id": "8049587e",
   "metadata": {},
   "source": [
    "Импортируем необходимые библиотеки, загружаем данные из файликов"
   ]
  },
  {
   "cell_type": "markdown",
   "id": "9a4e0bf0",
   "metadata": {},
   "source": [
    "Кернелы, к которым я обращалась:\n",
    "\n",
    "https://www.kaggle.com/code/finlay/two-sigma-eda-and-tree-models"
   ]
  },
  {
   "cell_type": "code",
   "execution_count": 28,
   "id": "23ceedd5",
   "metadata": {},
   "outputs": [],
   "source": [
    "import json\n",
    "import pandas as pd\n",
    "import numpy as np\n",
    "import matplotlib.pylab as plt\n",
    "import seaborn as sns\n",
    "from scipy import stats\n",
    "import math\n",
    "\n",
    "import xgboost as xgb\n",
    "import sklearn\n",
    "\n",
    "from sklearn.feature_extraction.text import CountVectorizer\n",
    "from sklearn.preprocessing import LabelEncoder"
   ]
  },
  {
   "cell_type": "code",
   "execution_count": 29,
   "id": "3c1996b1",
   "metadata": {},
   "outputs": [],
   "source": [
    "# загружаем тренировочный датасет\n",
    "with open('train.json', 'r') as raw_data:\n",
    "    train_set = json.load(raw_data)\n",
    "    df_train = pd.DataFrame(train_set)\n",
    "    \n",
    "pd.set_option('display.max_rows', None)"
   ]
  },
  {
   "cell_type": "code",
   "execution_count": 30,
   "id": "cc61243d",
   "metadata": {},
   "outputs": [],
   "source": [
    "# загружаем тестировочный датасет\n",
    "with open('test.json', 'r') as raw_data:\n",
    "    test_set = json.load(raw_data)\n",
    "    df_test = pd.DataFrame(test_set)\n",
    "\n",
    "pd.set_option('display.max_rows', None)"
   ]
  },
  {
   "cell_type": "code",
   "execution_count": 31,
   "id": "314c93ea",
   "metadata": {},
   "outputs": [
    {
     "data": {
      "text/plain": [
       "(49352, 15)"
      ]
     },
     "execution_count": 31,
     "metadata": {},
     "output_type": "execute_result"
    }
   ],
   "source": [
    "df_train.shape"
   ]
  },
  {
   "cell_type": "code",
   "execution_count": 32,
   "id": "875866dd",
   "metadata": {},
   "outputs": [
    {
     "data": {
      "text/plain": [
       "(74659, 14)"
      ]
     },
     "execution_count": 32,
     "metadata": {},
     "output_type": "execute_result"
    }
   ],
   "source": [
    "df_test.shape"
   ]
  },
  {
   "cell_type": "code",
   "execution_count": 33,
   "id": "c83d4015",
   "metadata": {},
   "outputs": [],
   "source": [
    "# resetting index\n",
    "# df_train.reset_index(drop = True, inplace = True)"
   ]
  },
  {
   "cell_type": "markdown",
   "id": "7880f4ff",
   "metadata": {},
   "source": [
    "# Предобработка данных"
   ]
  },
  {
   "cell_type": "code",
   "execution_count": 34,
   "id": "c702e7cb",
   "metadata": {
    "scrolled": true
   },
   "outputs": [
    {
     "name": "stdout",
     "output_type": "stream",
     "text": [
      "bathrooms\n",
      "False    49352\n",
      "Name: bathrooms, dtype: int64\n",
      "\n",
      "bedrooms\n",
      "False    49352\n",
      "Name: bedrooms, dtype: int64\n",
      "\n",
      "building_id\n",
      "False    49352\n",
      "Name: building_id, dtype: int64\n",
      "\n",
      "created\n",
      "False    49352\n",
      "Name: created, dtype: int64\n",
      "\n",
      "description\n",
      "False    49352\n",
      "Name: description, dtype: int64\n",
      "\n",
      "display_address\n",
      "False    49352\n",
      "Name: display_address, dtype: int64\n",
      "\n",
      "features\n",
      "False    49352\n",
      "Name: features, dtype: int64\n",
      "\n",
      "latitude\n",
      "False    49352\n",
      "Name: latitude, dtype: int64\n",
      "\n",
      "listing_id\n",
      "False    49352\n",
      "Name: listing_id, dtype: int64\n",
      "\n",
      "longitude\n",
      "False    49352\n",
      "Name: longitude, dtype: int64\n",
      "\n",
      "manager_id\n",
      "False    49352\n",
      "Name: manager_id, dtype: int64\n",
      "\n",
      "photos\n",
      "False    49352\n",
      "Name: photos, dtype: int64\n",
      "\n",
      "price\n",
      "False    49352\n",
      "Name: price, dtype: int64\n",
      "\n",
      "street_address\n",
      "False    49352\n",
      "Name: street_address, dtype: int64\n",
      "\n",
      "interest_level\n",
      "False    49352\n",
      "Name: interest_level, dtype: int64\n",
      "\n"
     ]
    }
   ],
   "source": [
    "# обрабатываем missing values\n",
    "missings = df_train.isnull()\n",
    "for column in missings.columns.values.tolist():\n",
    "    print(column)\n",
    "    print (missings[column].value_counts())\n",
    "    print(\"\")\n",
    "    "
   ]
  },
  {
   "cell_type": "markdown",
   "id": "08ed44cc",
   "metadata": {},
   "source": [
    "Пропущенных значений не обнаружено"
   ]
  },
  {
   "cell_type": "code",
   "execution_count": 35,
   "id": "2ea931a8",
   "metadata": {},
   "outputs": [
    {
     "data": {
      "text/plain": [
       "bathrooms          float64\n",
       "bedrooms             int64\n",
       "building_id         object\n",
       "created             object\n",
       "description         object\n",
       "display_address     object\n",
       "features            object\n",
       "latitude           float64\n",
       "listing_id           int64\n",
       "longitude          float64\n",
       "manager_id          object\n",
       "photos              object\n",
       "price                int64\n",
       "street_address      object\n",
       "interest_level      object\n",
       "dtype: object"
      ]
     },
     "execution_count": 35,
     "metadata": {},
     "output_type": "execute_result"
    }
   ],
   "source": [
    "# Checking dtypes\n",
    "df_train.dtypes"
   ]
  },
  {
   "cell_type": "markdown",
   "id": "ca010c5f",
   "metadata": {},
   "source": [
    "Типы данных не требуют корректировок"
   ]
  },
  {
   "cell_type": "code",
   "execution_count": 36,
   "id": "a9b7dcf3",
   "metadata": {},
   "outputs": [
    {
     "data": {
      "text/html": [
       "<div>\n",
       "<style scoped>\n",
       "    .dataframe tbody tr th:only-of-type {\n",
       "        vertical-align: middle;\n",
       "    }\n",
       "\n",
       "    .dataframe tbody tr th {\n",
       "        vertical-align: top;\n",
       "    }\n",
       "\n",
       "    .dataframe thead th {\n",
       "        text-align: right;\n",
       "    }\n",
       "</style>\n",
       "<table border=\"1\" class=\"dataframe\">\n",
       "  <thead>\n",
       "    <tr style=\"text-align: right;\">\n",
       "      <th></th>\n",
       "      <th>bathrooms</th>\n",
       "      <th>bedrooms</th>\n",
       "      <th>latitude</th>\n",
       "      <th>listing_id</th>\n",
       "      <th>longitude</th>\n",
       "      <th>price</th>\n",
       "    </tr>\n",
       "  </thead>\n",
       "  <tbody>\n",
       "    <tr>\n",
       "      <th>count</th>\n",
       "      <td>49352.00000</td>\n",
       "      <td>49352.000000</td>\n",
       "      <td>49352.000000</td>\n",
       "      <td>4.935200e+04</td>\n",
       "      <td>49352.000000</td>\n",
       "      <td>4.935200e+04</td>\n",
       "    </tr>\n",
       "    <tr>\n",
       "      <th>mean</th>\n",
       "      <td>1.21218</td>\n",
       "      <td>1.541640</td>\n",
       "      <td>40.741545</td>\n",
       "      <td>7.024055e+06</td>\n",
       "      <td>-73.955716</td>\n",
       "      <td>3.830174e+03</td>\n",
       "    </tr>\n",
       "    <tr>\n",
       "      <th>std</th>\n",
       "      <td>0.50142</td>\n",
       "      <td>1.115018</td>\n",
       "      <td>0.638535</td>\n",
       "      <td>1.262746e+05</td>\n",
       "      <td>1.177912</td>\n",
       "      <td>2.206687e+04</td>\n",
       "    </tr>\n",
       "    <tr>\n",
       "      <th>min</th>\n",
       "      <td>0.00000</td>\n",
       "      <td>0.000000</td>\n",
       "      <td>0.000000</td>\n",
       "      <td>6.811957e+06</td>\n",
       "      <td>-118.271000</td>\n",
       "      <td>4.300000e+01</td>\n",
       "    </tr>\n",
       "    <tr>\n",
       "      <th>25%</th>\n",
       "      <td>1.00000</td>\n",
       "      <td>1.000000</td>\n",
       "      <td>40.728300</td>\n",
       "      <td>6.915888e+06</td>\n",
       "      <td>-73.991700</td>\n",
       "      <td>2.500000e+03</td>\n",
       "    </tr>\n",
       "    <tr>\n",
       "      <th>50%</th>\n",
       "      <td>1.00000</td>\n",
       "      <td>1.000000</td>\n",
       "      <td>40.751800</td>\n",
       "      <td>7.021070e+06</td>\n",
       "      <td>-73.977900</td>\n",
       "      <td>3.150000e+03</td>\n",
       "    </tr>\n",
       "    <tr>\n",
       "      <th>75%</th>\n",
       "      <td>1.00000</td>\n",
       "      <td>2.000000</td>\n",
       "      <td>40.774300</td>\n",
       "      <td>7.128733e+06</td>\n",
       "      <td>-73.954800</td>\n",
       "      <td>4.100000e+03</td>\n",
       "    </tr>\n",
       "    <tr>\n",
       "      <th>max</th>\n",
       "      <td>10.00000</td>\n",
       "      <td>8.000000</td>\n",
       "      <td>44.883500</td>\n",
       "      <td>7.753784e+06</td>\n",
       "      <td>0.000000</td>\n",
       "      <td>4.490000e+06</td>\n",
       "    </tr>\n",
       "  </tbody>\n",
       "</table>\n",
       "</div>"
      ],
      "text/plain": [
       "         bathrooms      bedrooms      latitude    listing_id     longitude  \\\n",
       "count  49352.00000  49352.000000  49352.000000  4.935200e+04  49352.000000   \n",
       "mean       1.21218      1.541640     40.741545  7.024055e+06    -73.955716   \n",
       "std        0.50142      1.115018      0.638535  1.262746e+05      1.177912   \n",
       "min        0.00000      0.000000      0.000000  6.811957e+06   -118.271000   \n",
       "25%        1.00000      1.000000     40.728300  6.915888e+06    -73.991700   \n",
       "50%        1.00000      1.000000     40.751800  7.021070e+06    -73.977900   \n",
       "75%        1.00000      2.000000     40.774300  7.128733e+06    -73.954800   \n",
       "max       10.00000      8.000000     44.883500  7.753784e+06      0.000000   \n",
       "\n",
       "              price  \n",
       "count  4.935200e+04  \n",
       "mean   3.830174e+03  \n",
       "std    2.206687e+04  \n",
       "min    4.300000e+01  \n",
       "25%    2.500000e+03  \n",
       "50%    3.150000e+03  \n",
       "75%    4.100000e+03  \n",
       "max    4.490000e+06  "
      ]
     },
     "execution_count": 36,
     "metadata": {},
     "output_type": "execute_result"
    }
   ],
   "source": [
    "df_train.describe()"
   ]
  },
  {
   "cell_type": "markdown",
   "id": "6cfa7216",
   "metadata": {},
   "source": [
    "### bathrooms\n",
    "минимальное значение составляет 0, что не совсем логично  \n",
    "среднее значение составляет 1.21218, это имеет смысл\n",
    "    \n",
    "### bedrooms\n",
    "минимальное значение, как и в случае с прошлой переменной, может свидетельствовать об аномалии или выбросе в данных  \n",
    "среднее значение вполне логично\n",
    "\n",
    "### latitude\n",
    "среднее значение около 40, при этом размах значений от 0.000000 до 44.883500 - возможно в данных присутствуют выбросы\n",
    "\n",
    "### longitude\n",
    "среднее значение -73.955716, при этом размах значений от -118.271000 до 0.000000 - возможно наличие выбросов\n",
    "\n",
    "### price\n",
    "судя по максимальному значению более 4.49 млн, присутствуют выбросы"
   ]
  },
  {
   "cell_type": "markdown",
   "id": "526ec931",
   "metadata": {},
   "source": [
    "Проанализируем зависимую переменную"
   ]
  },
  {
   "cell_type": "code",
   "execution_count": 37,
   "id": "6278294a",
   "metadata": {},
   "outputs": [
    {
     "data": {
      "text/plain": [
       "low       34284\n",
       "medium    11229\n",
       "high       3839\n",
       "Name: interest_level, dtype: int64"
      ]
     },
     "execution_count": 37,
     "metadata": {},
     "output_type": "execute_result"
    }
   ],
   "source": [
    "df_train[\"interest_level\"].value_counts()\n",
    "# Наибольшее количество сделок сосредоточено в Low interest_level"
   ]
  },
  {
   "cell_type": "markdown",
   "id": "9b7d2801",
   "metadata": {},
   "source": [
    "# Исследование независимых переменных\n",
    "Как правило, более вариативные признаки являются лучшими предикторами. Те же, которые имеют низкое СКО становятся кандидатами на отсеивание. Наименьшее отклонения имеет переменная bathroom, проанализируем её."
   ]
  },
  {
   "cell_type": "markdown",
   "id": "dc747647",
   "metadata": {},
   "source": [
    "## Bathrooms"
   ]
  },
  {
   "cell_type": "code",
   "execution_count": 38,
   "id": "269be75f",
   "metadata": {},
   "outputs": [
    {
     "data": {
      "text/plain": [
       "1.0     39422\n",
       "2.0      7660\n",
       "3.0       745\n",
       "1.5       645\n",
       "0.0       313\n",
       "2.5       277\n",
       "4.0       159\n",
       "3.5        70\n",
       "4.5        29\n",
       "5.0        20\n",
       "5.5         5\n",
       "6.0         4\n",
       "6.5         1\n",
       "7.0         1\n",
       "10.0        1\n",
       "Name: bathrooms, dtype: int64"
      ]
     },
     "execution_count": 38,
     "metadata": {},
     "output_type": "execute_result"
    }
   ],
   "source": [
    "df_train['bathrooms'].value_counts()"
   ]
  },
  {
   "cell_type": "code",
   "execution_count": 39,
   "id": "25358f79",
   "metadata": {},
   "outputs": [],
   "source": [
    "# Интерпретируем категориальную целевую переменную в числовую, чтобы её удобнее было визуализировать\n",
    "# https://www.kaggle.com/code/finlay/two-sigma-eda-and-tree-models\n",
    "\n",
    "df_train['interest'] = np.where(df_train.interest_level == 'low', 0,\n",
    "                                  np.where(df_train.interest_level == 'medium', 1, 2))"
   ]
  },
  {
   "cell_type": "code",
   "execution_count": 40,
   "id": "4da6ec53",
   "metadata": {},
   "outputs": [
    {
     "data": {
      "image/png": "[encoded data removed]",
      "text/plain": [
       "<Figure size 640x480 with 1 Axes>"
      ]
     },
     "metadata": {},
     "output_type": "display_data"
    }
   ],
   "source": [
    "### Average number of Bathrooms per Interest Level\n",
    "\n",
    "sns.barplot(x = 'interest_level', y = 'bathrooms', data = df_train, order = ['low', 'medium', 'high'],\n",
    "            ax = plt.subplot(222));\n",
    "plt.xlabel('Interest Level');\n",
    "plt.ylabel('Average Number of Bathrooms');"
   ]
  },
  {
   "cell_type": "code",
   "execution_count": 41,
   "id": "5ed3e80e",
   "metadata": {},
   "outputs": [
    {
     "data": {
      "image/png": "[encoded data removed]",
      "text/plain": [
       "<Figure size 640x480 with 1 Axes>"
      ]
     },
     "metadata": {},
     "output_type": "display_data"
    }
   ],
   "source": [
    "### Average interest for every number of bathrooms\n",
    "sns.pointplot(x = \"bathrooms\", y = \"interest\", data = df_train, ax = plt.subplot(212));\n",
    "plt.xlabel('Number of Bathrooms');\n",
    "plt.ylabel('Average Interest');"
   ]
  },
  {
   "cell_type": "markdown",
   "id": "56a02c80",
   "metadata": {},
   "source": [
    "Из вышеприведённых графиков можно выявить следующую закономерность: с возрастанием количества комнат, идёт тренд на снижение interest_level"
   ]
  },
  {
   "cell_type": "code",
   "execution_count": 42,
   "id": "7cb45e36",
   "metadata": {},
   "outputs": [
    {
     "data": {
      "text/plain": [
       "<AxesSubplot:xlabel='bathrooms', ylabel='count'>"
      ]
     },
     "execution_count": 42,
     "metadata": {},
     "output_type": "execute_result"
    },
    {
     "data": {
      "image/png": "[encoded data removed]",
      "text/plain": [
       "<Figure size 640x480 with 1 Axes>"
      ]
     },
     "metadata": {},
     "output_type": "display_data"
    }
   ],
   "source": [
    "sns.countplot(x = df_train[\"bathrooms\"], hue = df_train['interest_level'])"
   ]
  },
  {
   "cell_type": "markdown",
   "id": "8f1c809a",
   "metadata": {},
   "source": [
    "# Bedrooms"
   ]
  },
  {
   "cell_type": "code",
   "execution_count": 43,
   "id": "6e14f5c5",
   "metadata": {},
   "outputs": [
    {
     "data": {
      "image/png": "[encoded data removed]",
      "text/plain": [
       "<Figure size 640x480 with 1 Axes>"
      ]
     },
     "metadata": {},
     "output_type": "display_data"
    }
   ],
   "source": [
    "sns.barplot(x = 'interest_level', y = 'bedrooms', data = df_train, order = ['low', 'medium', 'high'],\n",
    "            ax = plt.subplot(222));\n",
    "plt.xlabel('Interest Level');\n",
    "plt.ylabel('Average Number of Bedrooms');"
   ]
  },
  {
   "cell_type": "code",
   "execution_count": 44,
   "id": "a3a1d0a5",
   "metadata": {},
   "outputs": [
    {
     "data": {
      "text/plain": [
       "<AxesSubplot:xlabel='bedrooms', ylabel='count'>"
      ]
     },
     "execution_count": 44,
     "metadata": {},
     "output_type": "execute_result"
    },
    {
     "data": {
      "image/png": "[encoded data removed]",
      "text/plain": [
       "<Figure size 640x480 with 1 Axes>"
      ]
     },
     "metadata": {},
     "output_type": "display_data"
    }
   ],
   "source": [
    "sns.countplot(x = df_train[\"bedrooms\"])"
   ]
  },
  {
   "cell_type": "code",
   "execution_count": 45,
   "id": "da9fc2c1",
   "metadata": {},
   "outputs": [
    {
     "data": {
      "text/plain": [
       "<AxesSubplot:xlabel='bedrooms', ylabel='count'>"
      ]
     },
     "execution_count": 45,
     "metadata": {},
     "output_type": "execute_result"
    },
    {
     "data": {
      "image/png": "[encoded data removed]",
      "text/plain": [
       "<Figure size 640x480 with 1 Axes>"
      ]
     },
     "metadata": {},
     "output_type": "display_data"
    }
   ],
   "source": [
    "sns.countplot(x = df_train[\"bedrooms\"], hue = df_train['interest_level'])"
   ]
  },
  {
   "cell_type": "markdown",
   "id": "185001a7",
   "metadata": {},
   "source": [
    "# Price"
   ]
  },
  {
   "cell_type": "code",
   "execution_count": 46,
   "id": "e17df73a",
   "metadata": {},
   "outputs": [
    {
     "data": {
      "image/png": "[encoded data removed]",
      "text/plain": [
       "<Figure size 800x600 with 1 Axes>"
      ]
     },
     "metadata": {},
     "output_type": "display_data"
    }
   ],
   "source": [
    "plt.figure(figsize=(8,6))\n",
    "plt.scatter(range(df_train.shape[0]), np.sort(df_train['price'].values))\n",
    "plt.xlabel('index')\n",
    "plt.ylabel('price')\n",
    "plt.show()"
   ]
  },
  {
   "cell_type": "markdown",
   "id": "cf563b14",
   "metadata": {},
   "source": [
    "На графике можем увидеть выбросы данных. Будем их корректировать"
   ]
  },
  {
   "cell_type": "code",
   "execution_count": 58,
   "id": "ccb6c4d2",
   "metadata": {},
   "outputs": [
    {
     "name": "stdout",
     "output_type": "stream",
     "text": [
      "(array([ 1830,  4793, 12947, 22058, 22968, 49289], dtype=int64),)\n"
     ]
    }
   ],
   "source": [
    "print(np.where(df_train['price'] > 100000))"
   ]
  },
  {
   "cell_type": "code",
   "execution_count": 59,
   "id": "70e1189b",
   "metadata": {},
   "outputs": [],
   "source": [
    "import sklearn\n",
    "from sklearn.datasets import load_boston\n",
    "import pandas as pd"
   ]
  },
  {
   "cell_type": "code",
   "execution_count": 60,
   "id": "345fa0b0",
   "metadata": {},
   "outputs": [],
   "source": [
    "# IQR\n",
    "Q1 = np.percentile(df_train['price'], 25,\n",
    "                   interpolation = 'midpoint')\n",
    " \n",
    "Q3 = np.percentile(df_train['price'], 75,\n",
    "                   interpolation = 'midpoint')\n",
    "IQR = Q3 - Q1"
   ]
  },
  {
   "cell_type": "code",
   "execution_count": 61,
   "id": "e987f388",
   "metadata": {},
   "outputs": [
    {
     "data": {
      "text/plain": [
       "1600.0"
      ]
     },
     "execution_count": 61,
     "metadata": {},
     "output_type": "execute_result"
    }
   ],
   "source": [
    "IQR"
   ]
  },
  {
   "cell_type": "code",
   "execution_count": 62,
   "id": "2c543d62",
   "metadata": {},
   "outputs": [],
   "source": [
    "# Верхняя граница\n",
    "upper = np.where(df_train['price'] >= (Q3 + 1.5 * IQR))\n",
    "# Нижняя граница\n",
    "lower = np.where(df_train['price'] <= (Q1 - 1.5 * IQR))"
   ]
  },
  {
   "cell_type": "code",
   "execution_count": 63,
   "id": "45deff7f",
   "metadata": {},
   "outputs": [
    {
     "ename": "KeyError",
     "evalue": "'[5 9 50 ... 49306 49310 49319] not found in axis'",
     "output_type": "error",
     "traceback": [
      "\u001b[1;31m---------------------------------------------------------------------------\u001b[0m",
      "\u001b[1;31mKeyError\u001b[0m                                  Traceback (most recent call last)",
      "\u001b[1;32m~\\AppData\\Local\\Temp\\ipykernel_8364\\171382507.py\u001b[0m in \u001b[0;36m<module>\u001b[1;34m\u001b[0m\n\u001b[0;32m      1\u001b[0m \u001b[1;31m#  Удалим выбросы!\u001b[0m\u001b[1;33m\u001b[0m\u001b[1;33m\u001b[0m\u001b[1;33m\u001b[0m\u001b[0m\n\u001b[1;32m----> 2\u001b[1;33m \u001b[0mdf_train\u001b[0m\u001b[1;33m.\u001b[0m\u001b[0mdrop\u001b[0m\u001b[1;33m(\u001b[0m\u001b[0mupper\u001b[0m\u001b[1;33m[\u001b[0m\u001b[1;36m0\u001b[0m\u001b[1;33m]\u001b[0m\u001b[1;33m,\u001b[0m \u001b[0minplace\u001b[0m \u001b[1;33m=\u001b[0m \u001b[1;32mTrue\u001b[0m\u001b[1;33m)\u001b[0m\u001b[1;33m\u001b[0m\u001b[1;33m\u001b[0m\u001b[0m\n\u001b[0m\u001b[0;32m      3\u001b[0m \u001b[0mdf_train\u001b[0m\u001b[1;33m.\u001b[0m\u001b[0mdrop\u001b[0m\u001b[1;33m(\u001b[0m\u001b[0mlower\u001b[0m\u001b[1;33m[\u001b[0m\u001b[1;36m0\u001b[0m\u001b[1;33m]\u001b[0m\u001b[1;33m,\u001b[0m \u001b[0minplace\u001b[0m \u001b[1;33m=\u001b[0m \u001b[1;32mTrue\u001b[0m\u001b[1;33m)\u001b[0m\u001b[1;33m\u001b[0m\u001b[1;33m\u001b[0m\u001b[0m\n",
      "\u001b[1;32mc:\\users\\lenovo\\appdata\\local\\programs\\python\\python37\\lib\\site-packages\\pandas\\util\\_decorators.py\u001b[0m in \u001b[0;36mwrapper\u001b[1;34m(*args, **kwargs)\u001b[0m\n\u001b[0;32m    309\u001b[0m                     \u001b[0mstacklevel\u001b[0m\u001b[1;33m=\u001b[0m\u001b[0mstacklevel\u001b[0m\u001b[1;33m,\u001b[0m\u001b[1;33m\u001b[0m\u001b[1;33m\u001b[0m\u001b[0m\n\u001b[0;32m    310\u001b[0m                 )\n\u001b[1;32m--> 311\u001b[1;33m             \u001b[1;32mreturn\u001b[0m \u001b[0mfunc\u001b[0m\u001b[1;33m(\u001b[0m\u001b[1;33m*\u001b[0m\u001b[0margs\u001b[0m\u001b[1;33m,\u001b[0m \u001b[1;33m**\u001b[0m\u001b[0mkwargs\u001b[0m\u001b[1;33m)\u001b[0m\u001b[1;33m\u001b[0m\u001b[1;33m\u001b[0m\u001b[0m\n\u001b[0m\u001b[0;32m    312\u001b[0m \u001b[1;33m\u001b[0m\u001b[0m\n\u001b[0;32m    313\u001b[0m         \u001b[1;32mreturn\u001b[0m \u001b[0mwrapper\u001b[0m\u001b[1;33m\u001b[0m\u001b[1;33m\u001b[0m\u001b[0m\n",
      "\u001b[1;32mc:\\users\\lenovo\\appdata\\local\\programs\\python\\python37\\lib\\site-packages\\pandas\\core\\frame.py\u001b[0m in \u001b[0;36mdrop\u001b[1;34m(self, labels, axis, index, columns, level, inplace, errors)\u001b[0m\n\u001b[0;32m   4911\u001b[0m             \u001b[0mlevel\u001b[0m\u001b[1;33m=\u001b[0m\u001b[0mlevel\u001b[0m\u001b[1;33m,\u001b[0m\u001b[1;33m\u001b[0m\u001b[1;33m\u001b[0m\u001b[0m\n\u001b[0;32m   4912\u001b[0m             \u001b[0minplace\u001b[0m\u001b[1;33m=\u001b[0m\u001b[0minplace\u001b[0m\u001b[1;33m,\u001b[0m\u001b[1;33m\u001b[0m\u001b[1;33m\u001b[0m\u001b[0m\n\u001b[1;32m-> 4913\u001b[1;33m             \u001b[0merrors\u001b[0m\u001b[1;33m=\u001b[0m\u001b[0merrors\u001b[0m\u001b[1;33m,\u001b[0m\u001b[1;33m\u001b[0m\u001b[1;33m\u001b[0m\u001b[0m\n\u001b[0m\u001b[0;32m   4914\u001b[0m         )\n\u001b[0;32m   4915\u001b[0m \u001b[1;33m\u001b[0m\u001b[0m\n",
      "\u001b[1;32mc:\\users\\lenovo\\appdata\\local\\programs\\python\\python37\\lib\\site-packages\\pandas\\core\\generic.py\u001b[0m in \u001b[0;36mdrop\u001b[1;34m(self, labels, axis, index, columns, level, inplace, errors)\u001b[0m\n\u001b[0;32m   4148\u001b[0m         \u001b[1;32mfor\u001b[0m \u001b[0maxis\u001b[0m\u001b[1;33m,\u001b[0m \u001b[0mlabels\u001b[0m \u001b[1;32min\u001b[0m \u001b[0maxes\u001b[0m\u001b[1;33m.\u001b[0m\u001b[0mitems\u001b[0m\u001b[1;33m(\u001b[0m\u001b[1;33m)\u001b[0m\u001b[1;33m:\u001b[0m\u001b[1;33m\u001b[0m\u001b[1;33m\u001b[0m\u001b[0m\n\u001b[0;32m   4149\u001b[0m             \u001b[1;32mif\u001b[0m \u001b[0mlabels\u001b[0m \u001b[1;32mis\u001b[0m \u001b[1;32mnot\u001b[0m \u001b[1;32mNone\u001b[0m\u001b[1;33m:\u001b[0m\u001b[1;33m\u001b[0m\u001b[1;33m\u001b[0m\u001b[0m\n\u001b[1;32m-> 4150\u001b[1;33m                 \u001b[0mobj\u001b[0m \u001b[1;33m=\u001b[0m \u001b[0mobj\u001b[0m\u001b[1;33m.\u001b[0m\u001b[0m_drop_axis\u001b[0m\u001b[1;33m(\u001b[0m\u001b[0mlabels\u001b[0m\u001b[1;33m,\u001b[0m \u001b[0maxis\u001b[0m\u001b[1;33m,\u001b[0m \u001b[0mlevel\u001b[0m\u001b[1;33m=\u001b[0m\u001b[0mlevel\u001b[0m\u001b[1;33m,\u001b[0m \u001b[0merrors\u001b[0m\u001b[1;33m=\u001b[0m\u001b[0merrors\u001b[0m\u001b[1;33m)\u001b[0m\u001b[1;33m\u001b[0m\u001b[1;33m\u001b[0m\u001b[0m\n\u001b[0m\u001b[0;32m   4151\u001b[0m \u001b[1;33m\u001b[0m\u001b[0m\n\u001b[0;32m   4152\u001b[0m         \u001b[1;32mif\u001b[0m \u001b[0minplace\u001b[0m\u001b[1;33m:\u001b[0m\u001b[1;33m\u001b[0m\u001b[1;33m\u001b[0m\u001b[0m\n",
      "\u001b[1;32mc:\\users\\lenovo\\appdata\\local\\programs\\python\\python37\\lib\\site-packages\\pandas\\core\\generic.py\u001b[0m in \u001b[0;36m_drop_axis\u001b[1;34m(self, labels, axis, level, errors)\u001b[0m\n\u001b[0;32m   4183\u001b[0m                 \u001b[0mnew_axis\u001b[0m \u001b[1;33m=\u001b[0m \u001b[0maxis\u001b[0m\u001b[1;33m.\u001b[0m\u001b[0mdrop\u001b[0m\u001b[1;33m(\u001b[0m\u001b[0mlabels\u001b[0m\u001b[1;33m,\u001b[0m \u001b[0mlevel\u001b[0m\u001b[1;33m=\u001b[0m\u001b[0mlevel\u001b[0m\u001b[1;33m,\u001b[0m \u001b[0merrors\u001b[0m\u001b[1;33m=\u001b[0m\u001b[0merrors\u001b[0m\u001b[1;33m)\u001b[0m\u001b[1;33m\u001b[0m\u001b[1;33m\u001b[0m\u001b[0m\n\u001b[0;32m   4184\u001b[0m             \u001b[1;32melse\u001b[0m\u001b[1;33m:\u001b[0m\u001b[1;33m\u001b[0m\u001b[1;33m\u001b[0m\u001b[0m\n\u001b[1;32m-> 4185\u001b[1;33m                 \u001b[0mnew_axis\u001b[0m \u001b[1;33m=\u001b[0m \u001b[0maxis\u001b[0m\u001b[1;33m.\u001b[0m\u001b[0mdrop\u001b[0m\u001b[1;33m(\u001b[0m\u001b[0mlabels\u001b[0m\u001b[1;33m,\u001b[0m \u001b[0merrors\u001b[0m\u001b[1;33m=\u001b[0m\u001b[0merrors\u001b[0m\u001b[1;33m)\u001b[0m\u001b[1;33m\u001b[0m\u001b[1;33m\u001b[0m\u001b[0m\n\u001b[0m\u001b[0;32m   4186\u001b[0m             \u001b[0mresult\u001b[0m \u001b[1;33m=\u001b[0m \u001b[0mself\u001b[0m\u001b[1;33m.\u001b[0m\u001b[0mreindex\u001b[0m\u001b[1;33m(\u001b[0m\u001b[1;33m**\u001b[0m\u001b[1;33m{\u001b[0m\u001b[0maxis_name\u001b[0m\u001b[1;33m:\u001b[0m \u001b[0mnew_axis\u001b[0m\u001b[1;33m}\u001b[0m\u001b[1;33m)\u001b[0m\u001b[1;33m\u001b[0m\u001b[1;33m\u001b[0m\u001b[0m\n\u001b[0;32m   4187\u001b[0m \u001b[1;33m\u001b[0m\u001b[0m\n",
      "\u001b[1;32mc:\\users\\lenovo\\appdata\\local\\programs\\python\\python37\\lib\\site-packages\\pandas\\core\\indexes\\base.py\u001b[0m in \u001b[0;36mdrop\u001b[1;34m(self, labels, errors)\u001b[0m\n\u001b[0;32m   6015\u001b[0m         \u001b[1;32mif\u001b[0m \u001b[0mmask\u001b[0m\u001b[1;33m.\u001b[0m\u001b[0many\u001b[0m\u001b[1;33m(\u001b[0m\u001b[1;33m)\u001b[0m\u001b[1;33m:\u001b[0m\u001b[1;33m\u001b[0m\u001b[1;33m\u001b[0m\u001b[0m\n\u001b[0;32m   6016\u001b[0m             \u001b[1;32mif\u001b[0m \u001b[0merrors\u001b[0m \u001b[1;33m!=\u001b[0m \u001b[1;34m\"ignore\"\u001b[0m\u001b[1;33m:\u001b[0m\u001b[1;33m\u001b[0m\u001b[1;33m\u001b[0m\u001b[0m\n\u001b[1;32m-> 6017\u001b[1;33m                 \u001b[1;32mraise\u001b[0m \u001b[0mKeyError\u001b[0m\u001b[1;33m(\u001b[0m\u001b[1;34mf\"{labels[mask]} not found in axis\"\u001b[0m\u001b[1;33m)\u001b[0m\u001b[1;33m\u001b[0m\u001b[1;33m\u001b[0m\u001b[0m\n\u001b[0m\u001b[0;32m   6018\u001b[0m             \u001b[0mindexer\u001b[0m \u001b[1;33m=\u001b[0m \u001b[0mindexer\u001b[0m\u001b[1;33m[\u001b[0m\u001b[1;33m~\u001b[0m\u001b[0mmask\u001b[0m\u001b[1;33m]\u001b[0m\u001b[1;33m\u001b[0m\u001b[1;33m\u001b[0m\u001b[0m\n\u001b[0;32m   6019\u001b[0m         \u001b[1;32mreturn\u001b[0m \u001b[0mself\u001b[0m\u001b[1;33m.\u001b[0m\u001b[0mdelete\u001b[0m\u001b[1;33m(\u001b[0m\u001b[0mindexer\u001b[0m\u001b[1;33m)\u001b[0m\u001b[1;33m\u001b[0m\u001b[1;33m\u001b[0m\u001b[0m\n",
      "\u001b[1;31mKeyError\u001b[0m: '[5 9 50 ... 49306 49310 49319] not found in axis'"
     ]
    }
   ],
   "source": [
    "#  Удалим выбросы! \n",
    "df_train.drop(upper[0], inplace = True)\n",
    "df_train.drop(lower[0], inplace = True)"
   ]
  },
  {
   "cell_type": "code",
   "execution_count": null,
   "id": "406608ba",
   "metadata": {},
   "outputs": [],
   "source": [
    "df_train.shape"
   ]
  },
  {
   "cell_type": "code",
   "execution_count": 53,
   "id": "06ad80e9",
   "metadata": {},
   "outputs": [
    {
     "data": {
      "image/png": "[encoded data removed]",
      "text/plain": [
       "<Figure size 800x600 with 1 Axes>"
      ]
     },
     "metadata": {},
     "output_type": "display_data"
    }
   ],
   "source": [
    "plt.figure(figsize=(8,6))\n",
    "plt.scatter(range(df_train.shape[0]), np.sort(df_train['price'].values))\n",
    "plt.xlabel('index')\n",
    "plt.ylabel('price')\n",
    "plt.show()"
   ]
  },
  {
   "cell_type": "markdown",
   "id": "26dda70f",
   "metadata": {},
   "source": [
    "Теперь мы видим закономерный график: чем больше цена, тем больше предложение на рынке. Значит, выбросы удалены"
   ]
  },
  {
   "cell_type": "code",
   "execution_count": 57,
   "id": "9add6a43",
   "metadata": {},
   "outputs": [
    {
     "name": "stderr",
     "output_type": "stream",
     "text": [
      "c:\\users\\lenovo\\appdata\\local\\programs\\python\\python37\\lib\\site-packages\\ipykernel_launcher.py:2: UserWarning: \n",
      "\n",
      "`distplot` is a deprecated function and will be removed in seaborn v0.14.0.\n",
      "\n",
      "Please adapt your code to use either `displot` (a figure-level function with\n",
      "similar flexibility) or `histplot` (an axes-level function for histograms).\n",
      "\n",
      "For a guide to updating your code to use the new functions, please see\n",
      "https://gist.github.com/mwaskom/de44147ed2974457ad6372750bbe5751\n",
      "\n",
      "  \n"
     ]
    },
    {
     "data": {
      "image/png": "[encoded data removed]",
      "text/plain": [
       "<Figure size 800x600 with 1 Axes>"
      ]
     },
     "metadata": {},
     "output_type": "display_data"
    }
   ],
   "source": [
    "plt.figure(figsize = (8,6))\n",
    "sns.distplot(df_train.price.values, bins = 50, kde = True)\n",
    "plt.xlabel('price', fontsize = 12)\n",
    "plt.show()"
   ]
  },
  {
   "cell_type": "code",
   "execution_count": 56,
   "id": "cf77d3bf",
   "metadata": {},
   "outputs": [
    {
     "data": {
      "text/plain": [
       "(177.68860103258388, 34979.494263424705)"
      ]
     },
     "execution_count": 56,
     "metadata": {},
     "output_type": "execute_result"
    }
   ],
   "source": [
    "from scipy.stats import skew\n",
    "from scipy.stats import kurtosis\n",
    "skew(df_train.price, axis = 0, bias = True), kurtosis(df_train.price, axis = 0, bias = True)"
   ]
  },
  {
   "cell_type": "markdown",
   "id": "cd3325b2",
   "metadata": {},
   "source": [
    "Положительная асимметрия, равная 0.7771428305897755 указывает на то, что распределение положительно искажено; куртозис, равный 0.08851107761819366, свидетельствует, что в нашем распредлении будет меньше выбросов, чем в нормальном.\n"
   ]
  },
  {
   "cell_type": "markdown",
   "id": "791706d8",
   "metadata": {},
   "source": [
    "# XGBoost"
   ]
  },
  {
   "cell_type": "markdown",
   "id": "c29fa38a",
   "metadata": {},
   "source": [
    "По аналогии с Кернелом https://www.kaggle.com/code/sudalairajkumar/xgb-starter-in-python/notebook решила попробовать XGBoost для данной задачи. "
   ]
  },
  {
   "cell_type": "code",
   "execution_count": null,
   "id": "1cb333af",
   "metadata": {},
   "outputs": [],
   "source": [
    "'''\n",
    "def data_transform(df_train, df_test):\n",
    "        \n",
    "    Y_train = df_train['interest_level']\n",
    "    df_train = df_train.drop('interest_level', axis = 1)\n",
    "    \n",
    "    # нам понадобится разбивка 'created' по промежуткам времени\n",
    "    dt = pd.concat([df_train, df_test])\n",
    "    \n",
    "    dt['created'] = pd.to_datetime(dt['created'])\n",
    "    dt['year_created'] = dt['created'].dt.year\n",
    "    dt['month_created'] = dt['created'].dt.month\n",
    "    dt['day_created'] = dt['created'].dt.day\n",
    "    dt['hour_created'] = dt['created'].dt.hour\n",
    "    \n",
    "    # bedroom_price\n",
    "    dt['bedroom_price'] = dt['price'] / dt['bedrooms']\n",
    "    dt.loc[dt['bedrooms'] == 0, 'bedroom_price'] = dt['price']\n",
    "\n",
    "    # room_count\n",
    "    dt['room_count'] = dt['bedrooms'] + dt['bathrooms']\n",
    "\n",
    "    # description_word_count column definition\n",
    "    dt['description_word_count'] = dt['description'].apply(lambda desc: len(desc.split(' ')))\n",
    "\n",
    "    # features_word_count column definition\n",
    "    dt['features_word_count'] = dt['features'].apply(len)\n",
    "\n",
    "    # photo_count column definition\n",
    "    dt['photo_count'] = dt['photos'].apply(len)\n",
    "    \n",
    "    # columns encoding\n",
    "    for column_name in ['building_id', 'display_address', 'manager_id', 'street_address']:\n",
    "        label_encoder = LabelEncoder()\n",
    "        label_encoder.fit(dt[column_name].values)\n",
    "        dt[column_name] = label_encoder.transform(dt[column_name].values)\n",
    "        \n",
    "    # features transform\n",
    "    dt['features'] = dt['features'].apply(lambda x: ' '.join(['_'.join(i.split(' ')) for i in x]))\n",
    "    \n",
    "    X_train = dt.iloc[:len(df_train)]\n",
    "    X_test = dt.iloc[len(df_train):]\n",
    "    \n",
    "    count_vec = CountVectorizer(max_features=200)\n",
    "    train_features_token_counts = count_vec.fit_transform(X_train['features'])\n",
    "    test_features_token_counts = count_vec.transform(X_test['features'])\n",
    "\n",
    "    # columns drop\n",
    "    X_train = X_train.drop(['description', 'photos', 'created', 'features'], axis=1)\n",
    "    X_test = X_test.drop(['description', 'photos', 'created', 'features'], axis=1)\n",
    "    \n",
    "    X_train = pd.concat([X_train.reset_index(), pd.DataFrame(train_features_token_counts.toarray(), columns=count_vec.get_feature_names())], axis=1)\n",
    "    X_test = pd.concat([X_test.reset_index(), pd.DataFrame(test_features_token_counts.toarray(), columns=count_vec.get_feature_names())], axis=1)\n",
    "    \n",
    "    return X_train, X_test, Y_train\n",
    "\n",
    "\n",
    "X_train, X_test, Y_train = data_transform(df_train, df_test)\n",
    "print(X_train.shape)\n",
    "print(Y_train.shape)\n",
    "'''\n"
   ]
  },
  {
   "cell_type": "code",
   "execution_count": null,
   "id": "29fb607e",
   "metadata": {},
   "outputs": [],
   "source": [
    "# data_transform(df_train, df_test)"
   ]
  }
 ],
 "metadata": {
  "kernelspec": {
   "display_name": "Python 3 (ipykernel)",
   "language": "python",
   "name": "python3"
  },
  "language_info": {
   "codemirror_mode": {
    "name": "ipython",
    "version": 3
   },
   "file_extension": ".py",
   "mimetype": "text/x-python",
   "name": "python",
   "nbconvert_exporter": "python",
   "pygments_lexer": "ipython3",
   "version": "3.7.6"
  }
 },
 "nbformat": 4,
 "nbformat_minor": 5
}
