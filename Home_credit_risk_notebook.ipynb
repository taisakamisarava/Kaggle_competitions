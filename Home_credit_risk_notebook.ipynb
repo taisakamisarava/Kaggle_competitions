{
 "cells": [
  {
   "cell_type": "code",
   "execution_count": 1,
   "metadata": {
    "_cell_guid": "b1076dfc-b9ad-4769-8c92-a6c4dae69d19",
    "_uuid": "8f2839f25d086af736a60e9eeb907d3b93b6e0e5",
    "execution": {
     "iopub.execute_input": "2022-12-06T11:59:04.079186Z",
     "iopub.status.busy": "2022-12-06T11:59:04.078769Z",
     "iopub.status.idle": "2022-12-06T11:59:04.088618Z",
     "shell.execute_reply": "2022-12-06T11:59:04.087658Z",
     "shell.execute_reply.started": "2022-12-06T11:59:04.079153Z"
    }
   },
   "outputs": [],
   "source": [
    "import numpy as np \n",
    "import pandas as pd \n",
    "\n",
    "import os\n",
    "for dirname, _, filenames in os.walk('/kaggle/input'):\n",
    "    for filename in filenames:\n",
    "        print(os.path.join(dirname, filename))\n"
   ]
  },
  {
   "cell_type": "markdown",
   "metadata": {},
   "source": [
    "Кернелы, к которым я обращалась за вдохновением:\n",
    "\n",
    "https://www.kaggle.com/code/willkoehrsen/start-here-a-gentle-introduction?scriptVersionId=5301226&cellId=16\n",
    "https://www.kaggle.com/code/dariyakharytonova/notebook721481d097/"
   ]
  },
  {
   "cell_type": "code",
   "execution_count": 2,
   "metadata": {
    "execution": {
     "iopub.execute_input": "2022-12-06T11:59:04.097611Z",
     "iopub.status.busy": "2022-12-06T11:59:04.096956Z",
     "iopub.status.idle": "2022-12-06T11:59:04.102842Z",
     "shell.execute_reply": "2022-12-06T11:59:04.101700Z",
     "shell.execute_reply.started": "2022-12-06T11:59:04.097574Z"
    }
   },
   "outputs": [],
   "source": [
    "from sklearn.preprocessing import LabelEncoder\n",
    "\n",
    "import matplotlib.pyplot as plt\n",
    "import seaborn as sns\n",
    "from scipy import stats"
   ]
  },
  {
   "cell_type": "markdown",
   "metadata": {},
   "source": [
    "**Для начала изучим таблицы с данными, описание столбцов в файлике HomeCredit_columns_description, схему связи БД**"
   ]
  },
  {
   "cell_type": "markdown",
   "metadata": {},
   "source": [
    "### Train data"
   ]
  },
  {
   "cell_type": "code",
   "execution_count": 3,
   "metadata": {
    "execution": {
     "iopub.execute_input": "2022-12-06T11:59:04.124740Z",
     "iopub.status.busy": "2022-12-06T11:59:04.123865Z",
     "iopub.status.idle": "2022-12-06T11:59:08.287641Z",
     "shell.execute_reply": "2022-12-06T11:59:08.286515Z",
     "shell.execute_reply.started": "2022-12-06T11:59:04.124700Z"
    }
   },
   "outputs": [
    {
     "ename": "FileNotFoundError",
     "evalue": "[Errno 2] No such file or directory: '/kaggle/input/home-credit-default-risk/application_train.csv'",
     "output_type": "error",
     "traceback": [
      "\u001b[1;31m---------------------------------------------------------------------------\u001b[0m",
      "\u001b[1;31mFileNotFoundError\u001b[0m                         Traceback (most recent call last)",
      "\u001b[1;32m~\\AppData\\Local\\Temp\\ipykernel_9488\\2441594662.py\u001b[0m in \u001b[0;36m<module>\u001b[1;34m\u001b[0m\n\u001b[1;32m----> 1\u001b[1;33m \u001b[0mtrain_data\u001b[0m \u001b[1;33m=\u001b[0m \u001b[0mpd\u001b[0m\u001b[1;33m.\u001b[0m\u001b[0mread_csv\u001b[0m\u001b[1;33m(\u001b[0m\u001b[1;34m\"/kaggle/input/home-credit-default-risk/application_train.csv\"\u001b[0m\u001b[1;33m)\u001b[0m\u001b[1;33m\u001b[0m\u001b[1;33m\u001b[0m\u001b[0m\n\u001b[0m\u001b[0;32m      2\u001b[0m \u001b[0mpd\u001b[0m\u001b[1;33m.\u001b[0m\u001b[0mset_option\u001b[0m\u001b[1;33m(\u001b[0m\u001b[1;34m'display.max_columns'\u001b[0m\u001b[1;33m,\u001b[0m \u001b[1;32mNone\u001b[0m\u001b[1;33m)\u001b[0m\u001b[1;33m\u001b[0m\u001b[1;33m\u001b[0m\u001b[0m\n\u001b[0;32m      3\u001b[0m \u001b[0mtrain_data\u001b[0m\u001b[1;33m.\u001b[0m\u001b[0mhead\u001b[0m\u001b[1;33m(\u001b[0m\u001b[1;33m)\u001b[0m\u001b[1;33m\u001b[0m\u001b[1;33m\u001b[0m\u001b[0m\n",
      "\u001b[1;32mc:\\users\\lenovo\\appdata\\local\\programs\\python\\python37\\lib\\site-packages\\pandas\\util\\_decorators.py\u001b[0m in \u001b[0;36mwrapper\u001b[1;34m(*args, **kwargs)\u001b[0m\n\u001b[0;32m    309\u001b[0m                     \u001b[0mstacklevel\u001b[0m\u001b[1;33m=\u001b[0m\u001b[0mstacklevel\u001b[0m\u001b[1;33m,\u001b[0m\u001b[1;33m\u001b[0m\u001b[1;33m\u001b[0m\u001b[0m\n\u001b[0;32m    310\u001b[0m                 )\n\u001b[1;32m--> 311\u001b[1;33m             \u001b[1;32mreturn\u001b[0m \u001b[0mfunc\u001b[0m\u001b[1;33m(\u001b[0m\u001b[1;33m*\u001b[0m\u001b[0margs\u001b[0m\u001b[1;33m,\u001b[0m \u001b[1;33m**\u001b[0m\u001b[0mkwargs\u001b[0m\u001b[1;33m)\u001b[0m\u001b[1;33m\u001b[0m\u001b[1;33m\u001b[0m\u001b[0m\n\u001b[0m\u001b[0;32m    312\u001b[0m \u001b[1;33m\u001b[0m\u001b[0m\n\u001b[0;32m    313\u001b[0m         \u001b[1;32mreturn\u001b[0m \u001b[0mwrapper\u001b[0m\u001b[1;33m\u001b[0m\u001b[1;33m\u001b[0m\u001b[0m\n",
      "\u001b[1;32mc:\\users\\lenovo\\appdata\\local\\programs\\python\\python37\\lib\\site-packages\\pandas\\io\\parsers\\readers.py\u001b[0m in \u001b[0;36mread_csv\u001b[1;34m(filepath_or_buffer, sep, delimiter, header, names, index_col, usecols, squeeze, prefix, mangle_dupe_cols, dtype, engine, converters, true_values, false_values, skipinitialspace, skiprows, skipfooter, nrows, na_values, keep_default_na, na_filter, verbose, skip_blank_lines, parse_dates, infer_datetime_format, keep_date_col, date_parser, dayfirst, cache_dates, iterator, chunksize, compression, thousands, decimal, lineterminator, quotechar, quoting, doublequote, escapechar, comment, encoding, encoding_errors, dialect, error_bad_lines, warn_bad_lines, on_bad_lines, delim_whitespace, low_memory, memory_map, float_precision, storage_options)\u001b[0m\n\u001b[0;32m    584\u001b[0m     \u001b[0mkwds\u001b[0m\u001b[1;33m.\u001b[0m\u001b[0mupdate\u001b[0m\u001b[1;33m(\u001b[0m\u001b[0mkwds_defaults\u001b[0m\u001b[1;33m)\u001b[0m\u001b[1;33m\u001b[0m\u001b[1;33m\u001b[0m\u001b[0m\n\u001b[0;32m    585\u001b[0m \u001b[1;33m\u001b[0m\u001b[0m\n\u001b[1;32m--> 586\u001b[1;33m     \u001b[1;32mreturn\u001b[0m \u001b[0m_read\u001b[0m\u001b[1;33m(\u001b[0m\u001b[0mfilepath_or_buffer\u001b[0m\u001b[1;33m,\u001b[0m \u001b[0mkwds\u001b[0m\u001b[1;33m)\u001b[0m\u001b[1;33m\u001b[0m\u001b[1;33m\u001b[0m\u001b[0m\n\u001b[0m\u001b[0;32m    587\u001b[0m \u001b[1;33m\u001b[0m\u001b[0m\n\u001b[0;32m    588\u001b[0m \u001b[1;33m\u001b[0m\u001b[0m\n",
      "\u001b[1;32mc:\\users\\lenovo\\appdata\\local\\programs\\python\\python37\\lib\\site-packages\\pandas\\io\\parsers\\readers.py\u001b[0m in \u001b[0;36m_read\u001b[1;34m(filepath_or_buffer, kwds)\u001b[0m\n\u001b[0;32m    480\u001b[0m \u001b[1;33m\u001b[0m\u001b[0m\n\u001b[0;32m    481\u001b[0m     \u001b[1;31m# Create the parser.\u001b[0m\u001b[1;33m\u001b[0m\u001b[1;33m\u001b[0m\u001b[1;33m\u001b[0m\u001b[0m\n\u001b[1;32m--> 482\u001b[1;33m     \u001b[0mparser\u001b[0m \u001b[1;33m=\u001b[0m \u001b[0mTextFileReader\u001b[0m\u001b[1;33m(\u001b[0m\u001b[0mfilepath_or_buffer\u001b[0m\u001b[1;33m,\u001b[0m \u001b[1;33m**\u001b[0m\u001b[0mkwds\u001b[0m\u001b[1;33m)\u001b[0m\u001b[1;33m\u001b[0m\u001b[1;33m\u001b[0m\u001b[0m\n\u001b[0m\u001b[0;32m    483\u001b[0m \u001b[1;33m\u001b[0m\u001b[0m\n\u001b[0;32m    484\u001b[0m     \u001b[1;32mif\u001b[0m \u001b[0mchunksize\u001b[0m \u001b[1;32mor\u001b[0m \u001b[0miterator\u001b[0m\u001b[1;33m:\u001b[0m\u001b[1;33m\u001b[0m\u001b[1;33m\u001b[0m\u001b[0m\n",
      "\u001b[1;32mc:\\users\\lenovo\\appdata\\local\\programs\\python\\python37\\lib\\site-packages\\pandas\\io\\parsers\\readers.py\u001b[0m in \u001b[0;36m__init__\u001b[1;34m(self, f, engine, **kwds)\u001b[0m\n\u001b[0;32m    809\u001b[0m             \u001b[0mself\u001b[0m\u001b[1;33m.\u001b[0m\u001b[0moptions\u001b[0m\u001b[1;33m[\u001b[0m\u001b[1;34m\"has_index_names\"\u001b[0m\u001b[1;33m]\u001b[0m \u001b[1;33m=\u001b[0m \u001b[0mkwds\u001b[0m\u001b[1;33m[\u001b[0m\u001b[1;34m\"has_index_names\"\u001b[0m\u001b[1;33m]\u001b[0m\u001b[1;33m\u001b[0m\u001b[1;33m\u001b[0m\u001b[0m\n\u001b[0;32m    810\u001b[0m \u001b[1;33m\u001b[0m\u001b[0m\n\u001b[1;32m--> 811\u001b[1;33m         \u001b[0mself\u001b[0m\u001b[1;33m.\u001b[0m\u001b[0m_engine\u001b[0m \u001b[1;33m=\u001b[0m \u001b[0mself\u001b[0m\u001b[1;33m.\u001b[0m\u001b[0m_make_engine\u001b[0m\u001b[1;33m(\u001b[0m\u001b[0mself\u001b[0m\u001b[1;33m.\u001b[0m\u001b[0mengine\u001b[0m\u001b[1;33m)\u001b[0m\u001b[1;33m\u001b[0m\u001b[1;33m\u001b[0m\u001b[0m\n\u001b[0m\u001b[0;32m    812\u001b[0m \u001b[1;33m\u001b[0m\u001b[0m\n\u001b[0;32m    813\u001b[0m     \u001b[1;32mdef\u001b[0m \u001b[0mclose\u001b[0m\u001b[1;33m(\u001b[0m\u001b[0mself\u001b[0m\u001b[1;33m)\u001b[0m\u001b[1;33m:\u001b[0m\u001b[1;33m\u001b[0m\u001b[1;33m\u001b[0m\u001b[0m\n",
      "\u001b[1;32mc:\\users\\lenovo\\appdata\\local\\programs\\python\\python37\\lib\\site-packages\\pandas\\io\\parsers\\readers.py\u001b[0m in \u001b[0;36m_make_engine\u001b[1;34m(self, engine)\u001b[0m\n\u001b[0;32m   1038\u001b[0m             )\n\u001b[0;32m   1039\u001b[0m         \u001b[1;31m# error: Too many arguments for \"ParserBase\"\u001b[0m\u001b[1;33m\u001b[0m\u001b[1;33m\u001b[0m\u001b[1;33m\u001b[0m\u001b[0m\n\u001b[1;32m-> 1040\u001b[1;33m         \u001b[1;32mreturn\u001b[0m \u001b[0mmapping\u001b[0m\u001b[1;33m[\u001b[0m\u001b[0mengine\u001b[0m\u001b[1;33m]\u001b[0m\u001b[1;33m(\u001b[0m\u001b[0mself\u001b[0m\u001b[1;33m.\u001b[0m\u001b[0mf\u001b[0m\u001b[1;33m,\u001b[0m \u001b[1;33m**\u001b[0m\u001b[0mself\u001b[0m\u001b[1;33m.\u001b[0m\u001b[0moptions\u001b[0m\u001b[1;33m)\u001b[0m  \u001b[1;31m# type: ignore[call-arg]\u001b[0m\u001b[1;33m\u001b[0m\u001b[1;33m\u001b[0m\u001b[0m\n\u001b[0m\u001b[0;32m   1041\u001b[0m \u001b[1;33m\u001b[0m\u001b[0m\n\u001b[0;32m   1042\u001b[0m     \u001b[1;32mdef\u001b[0m \u001b[0m_failover_to_python\u001b[0m\u001b[1;33m(\u001b[0m\u001b[0mself\u001b[0m\u001b[1;33m)\u001b[0m\u001b[1;33m:\u001b[0m\u001b[1;33m\u001b[0m\u001b[1;33m\u001b[0m\u001b[0m\n",
      "\u001b[1;32mc:\\users\\lenovo\\appdata\\local\\programs\\python\\python37\\lib\\site-packages\\pandas\\io\\parsers\\c_parser_wrapper.py\u001b[0m in \u001b[0;36m__init__\u001b[1;34m(self, src, **kwds)\u001b[0m\n\u001b[0;32m     49\u001b[0m \u001b[1;33m\u001b[0m\u001b[0m\n\u001b[0;32m     50\u001b[0m         \u001b[1;31m# open handles\u001b[0m\u001b[1;33m\u001b[0m\u001b[1;33m\u001b[0m\u001b[1;33m\u001b[0m\u001b[0m\n\u001b[1;32m---> 51\u001b[1;33m         \u001b[0mself\u001b[0m\u001b[1;33m.\u001b[0m\u001b[0m_open_handles\u001b[0m\u001b[1;33m(\u001b[0m\u001b[0msrc\u001b[0m\u001b[1;33m,\u001b[0m \u001b[0mkwds\u001b[0m\u001b[1;33m)\u001b[0m\u001b[1;33m\u001b[0m\u001b[1;33m\u001b[0m\u001b[0m\n\u001b[0m\u001b[0;32m     52\u001b[0m         \u001b[1;32massert\u001b[0m \u001b[0mself\u001b[0m\u001b[1;33m.\u001b[0m\u001b[0mhandles\u001b[0m \u001b[1;32mis\u001b[0m \u001b[1;32mnot\u001b[0m \u001b[1;32mNone\u001b[0m\u001b[1;33m\u001b[0m\u001b[1;33m\u001b[0m\u001b[0m\n\u001b[0;32m     53\u001b[0m \u001b[1;33m\u001b[0m\u001b[0m\n",
      "\u001b[1;32mc:\\users\\lenovo\\appdata\\local\\programs\\python\\python37\\lib\\site-packages\\pandas\\io\\parsers\\base_parser.py\u001b[0m in \u001b[0;36m_open_handles\u001b[1;34m(self, src, kwds)\u001b[0m\n\u001b[0;32m    227\u001b[0m             \u001b[0mmemory_map\u001b[0m\u001b[1;33m=\u001b[0m\u001b[0mkwds\u001b[0m\u001b[1;33m.\u001b[0m\u001b[0mget\u001b[0m\u001b[1;33m(\u001b[0m\u001b[1;34m\"memory_map\"\u001b[0m\u001b[1;33m,\u001b[0m \u001b[1;32mFalse\u001b[0m\u001b[1;33m)\u001b[0m\u001b[1;33m,\u001b[0m\u001b[1;33m\u001b[0m\u001b[1;33m\u001b[0m\u001b[0m\n\u001b[0;32m    228\u001b[0m             \u001b[0mstorage_options\u001b[0m\u001b[1;33m=\u001b[0m\u001b[0mkwds\u001b[0m\u001b[1;33m.\u001b[0m\u001b[0mget\u001b[0m\u001b[1;33m(\u001b[0m\u001b[1;34m\"storage_options\"\u001b[0m\u001b[1;33m,\u001b[0m \u001b[1;32mNone\u001b[0m\u001b[1;33m)\u001b[0m\u001b[1;33m,\u001b[0m\u001b[1;33m\u001b[0m\u001b[1;33m\u001b[0m\u001b[0m\n\u001b[1;32m--> 229\u001b[1;33m             \u001b[0merrors\u001b[0m\u001b[1;33m=\u001b[0m\u001b[0mkwds\u001b[0m\u001b[1;33m.\u001b[0m\u001b[0mget\u001b[0m\u001b[1;33m(\u001b[0m\u001b[1;34m\"encoding_errors\"\u001b[0m\u001b[1;33m,\u001b[0m \u001b[1;34m\"strict\"\u001b[0m\u001b[1;33m)\u001b[0m\u001b[1;33m,\u001b[0m\u001b[1;33m\u001b[0m\u001b[1;33m\u001b[0m\u001b[0m\n\u001b[0m\u001b[0;32m    230\u001b[0m         )\n\u001b[0;32m    231\u001b[0m \u001b[1;33m\u001b[0m\u001b[0m\n",
      "\u001b[1;32mc:\\users\\lenovo\\appdata\\local\\programs\\python\\python37\\lib\\site-packages\\pandas\\io\\common.py\u001b[0m in \u001b[0;36mget_handle\u001b[1;34m(path_or_buf, mode, encoding, compression, memory_map, is_text, errors, storage_options)\u001b[0m\n\u001b[0;32m    705\u001b[0m                 \u001b[0mencoding\u001b[0m\u001b[1;33m=\u001b[0m\u001b[0mioargs\u001b[0m\u001b[1;33m.\u001b[0m\u001b[0mencoding\u001b[0m\u001b[1;33m,\u001b[0m\u001b[1;33m\u001b[0m\u001b[1;33m\u001b[0m\u001b[0m\n\u001b[0;32m    706\u001b[0m                 \u001b[0merrors\u001b[0m\u001b[1;33m=\u001b[0m\u001b[0merrors\u001b[0m\u001b[1;33m,\u001b[0m\u001b[1;33m\u001b[0m\u001b[1;33m\u001b[0m\u001b[0m\n\u001b[1;32m--> 707\u001b[1;33m                 \u001b[0mnewline\u001b[0m\u001b[1;33m=\u001b[0m\u001b[1;34m\"\"\u001b[0m\u001b[1;33m,\u001b[0m\u001b[1;33m\u001b[0m\u001b[1;33m\u001b[0m\u001b[0m\n\u001b[0m\u001b[0;32m    708\u001b[0m             )\n\u001b[0;32m    709\u001b[0m         \u001b[1;32melse\u001b[0m\u001b[1;33m:\u001b[0m\u001b[1;33m\u001b[0m\u001b[1;33m\u001b[0m\u001b[0m\n",
      "\u001b[1;31mFileNotFoundError\u001b[0m: [Errno 2] No such file or directory: '/kaggle/input/home-credit-default-risk/application_train.csv'"
     ]
    }
   ],
   "source": [
    "train_data = pd.read_csv(\"/kaggle/input/home-credit-default-risk/application_train.csv\")\n",
    "pd.set_option('display.max_columns', None)\n",
    "train_data.head()\n"
   ]
  },
  {
   "cell_type": "markdown",
   "metadata": {},
   "source": [
    "* Это основной датасет, с которым нам предстоит работать. Содержит много столбцов, в т.ч. категориальные переменные, которые, вероятнее всего, нам придется раскладывать на фиктивные переменные. \n",
    "\n",
    "* Включает аппликационные переменные соцдем характера, как правило, это не очень сильные переменные в разрезе предсказания кредитоспособности, однако мы всё же попробуем\n",
    "\n",
    "* Данные, касающиеся дат (рождения, опыта работы) требуют интерпретации для лучшего понимания\n",
    "\n",
    "* Содержит много сведений про билдинг, где живёт клиент, которые, вероятнее всего, не описывают целевую переменную"
   ]
  },
  {
   "cell_type": "markdown",
   "metadata": {},
   "source": [
    "> Зависимая переменная TARGET качественная, представляет собой дефолт флаг: TARGET = 1 - кредитополучатель не погасит кредит, TARGET = 0 - всё будет ок"
   ]
  },
  {
   "cell_type": "markdown",
   "metadata": {},
   "source": [
    "### Bureau"
   ]
  },
  {
   "cell_type": "code",
   "execution_count": null,
   "metadata": {
    "execution": {
     "iopub.execute_input": "2022-12-06T11:59:08.290576Z",
     "iopub.status.busy": "2022-12-06T11:59:08.290079Z",
     "iopub.status.idle": "2022-12-06T11:59:14.182565Z",
     "shell.execute_reply": "2022-12-06T11:59:14.181451Z",
     "shell.execute_reply.started": "2022-12-06T11:59:08.290521Z"
    }
   },
   "outputs": [],
   "source": [
    "bureau_balance = pd.read_csv(\"/kaggle/input/home-credit-default-risk/bureau_balance.csv\")\n",
    "bureau_balance.head()"
   ]
  },
  {
   "cell_type": "code",
   "execution_count": null,
   "metadata": {
    "execution": {
     "iopub.execute_input": "2022-12-06T11:59:14.184309Z",
     "iopub.status.busy": "2022-12-06T11:59:14.183943Z",
     "iopub.status.idle": "2022-12-06T11:59:16.963395Z",
     "shell.execute_reply": "2022-12-06T11:59:16.962218Z",
     "shell.execute_reply.started": "2022-12-06T11:59:14.184277Z"
    }
   },
   "outputs": [],
   "source": [
    "bureau = pd.read_csv(\"/kaggle/input/home-credit-default-risk/bureau.csv\")\n",
    "bureau.head()"
   ]
  },
  {
   "cell_type": "markdown",
   "metadata": {},
   "source": [
    "* содержит переменные CREDIT_DAY_OVERDUE, AMT_CREDIT_MAX_OVERDUE, CNT_CREDIT_PROLONG, AMT_CREDIT_SUM_DEBT, AMT_CREDIT_SUM_OVERDUE, которые хорошо характеризуют платежное поведение клиента и могут быть нам интересны с точки зрения предсказания выхода в дефолт\n",
    "* однако качество данных из кредитного регистра может быть не очень хорошим: содержать много пропущенных и неотформатированных значений"
   ]
  },
  {
   "cell_type": "markdown",
   "metadata": {},
   "source": [
    "> "
   ]
  },
  {
   "cell_type": "markdown",
   "metadata": {},
   "source": [
    "### POS_CASH balance"
   ]
  },
  {
   "cell_type": "code",
   "execution_count": null,
   "metadata": {
    "execution": {
     "iopub.execute_input": "2022-12-06T11:59:16.967275Z",
     "iopub.status.busy": "2022-12-06T11:59:16.966576Z",
     "iopub.status.idle": "2022-12-06T11:59:23.021046Z",
     "shell.execute_reply": "2022-12-06T11:59:23.019939Z",
     "shell.execute_reply.started": "2022-12-06T11:59:16.967228Z"
    }
   },
   "outputs": [],
   "source": [
    "POS_CASH_balance = pd.read_csv(\"/kaggle/input/home-credit-default-risk/POS_CASH_balance.csv\")\n",
    "POS_CASH_balance.head()"
   ]
  },
  {
   "cell_type": "markdown",
   "metadata": {},
   "source": [
    "* Таблица содержит полезные данные по days past due, описывающие поведение клиента\n",
    "* Это наши данные(Home Credit), поэтому качество данных, вероятно, будет хорошим"
   ]
  },
  {
   "cell_type": "markdown",
   "metadata": {},
   "source": [
    "### Previous Applications"
   ]
  },
  {
   "cell_type": "code",
   "execution_count": null,
   "metadata": {
    "execution": {
     "iopub.execute_input": "2022-12-06T11:59:23.022986Z",
     "iopub.status.busy": "2022-12-06T11:59:23.022590Z",
     "iopub.status.idle": "2022-12-06T11:59:31.588624Z",
     "shell.execute_reply": "2022-12-06T11:59:31.587292Z",
     "shell.execute_reply.started": "2022-12-06T11:59:23.022954Z"
    }
   },
   "outputs": [],
   "source": [
    "previous_application = pd.read_csv(\"/kaggle/input/home-credit-default-risk/previous_application.csv\")\n",
    "previous_application.head()"
   ]
  },
  {
   "cell_type": "markdown",
   "metadata": {},
   "source": [
    "* NAME_CONTRACT_TYPE, NAME_PORTFOLIO можно использовать для классификации наших сделок (лучше вторую, тк более ёмкие и унифицированные названия)\n",
    "* AMT_CREDIT, AMT_DOWN_PAYMENT пригодятся в качестве справочной инфы\n",
    "* NAME_CONTRACT_STATUS, CODE_REJECT_REASON также могут быть полезны \n",
    "* NAME_PRODUCT_TYPE - кросс-селам доверяем больше, так как это уже наши клиенты, в которых мы уверены настолько, что предложили им ещё одну сделку\n",
    "* DAYS_FIRST_DUE, DAYS_LAST_DUE_1ST_VERSION, DAYS_LAST_DUE проверим в качестве предикторов"
   ]
  },
  {
   "cell_type": "code",
   "execution_count": null,
   "metadata": {
    "execution": {
     "iopub.execute_input": "2022-12-06T11:59:31.590368Z",
     "iopub.status.busy": "2022-12-06T11:59:31.590017Z",
     "iopub.status.idle": "2022-12-06T11:59:40.965333Z",
     "shell.execute_reply": "2022-12-06T11:59:40.964486Z",
     "shell.execute_reply.started": "2022-12-06T11:59:31.590338Z"
    }
   },
   "outputs": [],
   "source": [
    "credit_card_balance = pd.read_csv(\"/kaggle/input/home-credit-default-risk/credit_card_balance.csv\")\n",
    "credit_card_balance.head()"
   ]
  },
  {
   "cell_type": "markdown",
   "metadata": {},
   "source": [
    "* Таблица содержит в себе в т.ч. транзакционные данные, которые могут явиться хорошими предикторами кредитоспособности или на их основании можно вывести сильные переменные"
   ]
  },
  {
   "cell_type": "markdown",
   "metadata": {},
   "source": [
    "### Installment Payments"
   ]
  },
  {
   "cell_type": "code",
   "execution_count": null,
   "metadata": {
    "execution": {
     "iopub.execute_input": "2022-12-06T11:59:40.968035Z",
     "iopub.status.busy": "2022-12-06T11:59:40.966812Z",
     "iopub.status.idle": "2022-12-06T11:59:54.234781Z",
     "shell.execute_reply": "2022-12-06T11:59:54.233468Z",
     "shell.execute_reply.started": "2022-12-06T11:59:40.967978Z"
    }
   },
   "outputs": [],
   "source": [
    "installments_payments = pd.read_csv(\"/kaggle/input/home-credit-default-risk/installments_payments.csv\")\n",
    "installments_payments.head()"
   ]
  },
  {
   "cell_type": "markdown",
   "metadata": {},
   "source": [
    "* Данные по платежам содержащиеся в таблице являются поведенческими, могут быть полезны для нас позже"
   ]
  },
  {
   "cell_type": "markdown",
   "metadata": {},
   "source": [
    "### Test"
   ]
  },
  {
   "cell_type": "code",
   "execution_count": null,
   "metadata": {
    "execution": {
     "iopub.execute_input": "2022-12-06T11:59:54.236541Z",
     "iopub.status.busy": "2022-12-06T11:59:54.236208Z",
     "iopub.status.idle": "2022-12-06T11:59:55.189079Z",
     "shell.execute_reply": "2022-12-06T11:59:55.187904Z",
     "shell.execute_reply.started": "2022-12-06T11:59:54.236513Z"
    }
   },
   "outputs": [],
   "source": [
    "test_data = pd.read_csv(\"/kaggle/input/home-credit-default-risk/application_test.csv\")\n",
    "test_data.head()"
   ]
  },
  {
   "cell_type": "markdown",
   "metadata": {},
   "source": [
    "> то же, что и Train, но без целевой переменной"
   ]
  },
  {
   "cell_type": "markdown",
   "metadata": {},
   "source": [
    " **Train - основной сет, который мы обработаем и на котором построим базовую модель. В последующих версиях с целью улучшения модели можно будет подтягивать переменные из других табличек**"
   ]
  },
  {
   "cell_type": "markdown",
   "metadata": {},
   "source": [
    "# Предобработка Train "
   ]
  },
  {
   "cell_type": "code",
   "execution_count": null,
   "metadata": {
    "execution": {
     "iopub.execute_input": "2022-12-06T11:59:55.191411Z",
     "iopub.status.busy": "2022-12-06T11:59:55.190943Z",
     "iopub.status.idle": "2022-12-06T11:59:55.287153Z",
     "shell.execute_reply": "2022-12-06T11:59:55.285941Z",
     "shell.execute_reply.started": "2022-12-06T11:59:55.191366Z"
    }
   },
   "outputs": [],
   "source": [
    "train_data.head()"
   ]
  },
  {
   "cell_type": "markdown",
   "metadata": {},
   "source": [
    "## Missings"
   ]
  },
  {
   "cell_type": "code",
   "execution_count": null,
   "metadata": {
    "execution": {
     "iopub.execute_input": "2022-12-06T11:59:55.293323Z",
     "iopub.status.busy": "2022-12-06T11:59:55.292942Z",
     "iopub.status.idle": "2022-12-06T11:59:55.630590Z",
     "shell.execute_reply": "2022-12-06T11:59:55.629479Z",
     "shell.execute_reply.started": "2022-12-06T11:59:55.293291Z"
    }
   },
   "outputs": [],
   "source": [
    "missings = train_data.isnull()\n",
    "missings"
   ]
  },
  {
   "cell_type": "code",
   "execution_count": null,
   "metadata": {
    "execution": {
     "iopub.execute_input": "2022-12-06T11:59:55.632152Z",
     "iopub.status.busy": "2022-12-06T11:59:55.631820Z",
     "iopub.status.idle": "2022-12-06T11:59:56.002250Z",
     "shell.execute_reply": "2022-12-06T11:59:56.001022Z",
     "shell.execute_reply.started": "2022-12-06T11:59:55.632122Z"
    }
   },
   "outputs": [],
   "source": [
    "for column in missings.columns.values.tolist():\n",
    "    print(column)\n",
    "    print (missings[column].value_counts())\n",
    "    print(\"\")"
   ]
  },
  {
   "cell_type": "markdown",
   "metadata": {},
   "source": [
    "Если переменная содержит более 5-10% пропущенных значений, имеет смысл её удалить и не учитывать в дальнейшем анализе. Если исходя из бизнес-логики переменная с пропущенными значениями может хорошо предсказывать таргет или пропуски объяснимы, можно попытаться её \"спасти\" и догрузить данные из альтернативного источника. \n",
    "\n",
    "В нашем случае большинство переменных с большим кол-вом миссингов характеризуют жилплощадь кредитополучателя, ээкспертным путём определим, что их можно удалить. Маловероятно, что, например, материал стен позволит нам предсказать целевую переменную.\n",
    "\n",
    "Переменные AMT_REQ_CREDIT_BUREAU_.. имеют одинаковое кол-во пропущенных значений, предположим, это можно объяснить, пока не будем их отбрасывать\n",
    "\n",
    "OBS_30_CNT_SOCIAL_CIRCLE,DEF_30_CNT_SOCIAL_CIRCLE,OBS_60_CNT_SOCIAL_CIRCLE,DEF_60_CNT_SOCIAL_CIRCLE похожие по смыслу переменные, тоже имеют одинаковое количество пропусков, эти переменные сохраним для дальнейшего анализа"
   ]
  },
  {
   "cell_type": "code",
   "execution_count": null,
   "metadata": {
    "execution": {
     "iopub.execute_input": "2022-12-06T11:59:56.003889Z",
     "iopub.status.busy": "2022-12-06T11:59:56.003544Z",
     "iopub.status.idle": "2022-12-06T11:59:56.139679Z",
     "shell.execute_reply": "2022-12-06T11:59:56.138409Z",
     "shell.execute_reply.started": "2022-12-06T11:59:56.003859Z"
    }
   },
   "outputs": [],
   "source": [
    "train_data = train_data.drop(['COMMONAREA_MEDI', 'COMMONAREA_AVG', 'COMMONAREA_MODE',\n",
    "       'NONLIVINGAPARTMENTS_MEDI', 'NONLIVINGAPARTMENTS_MODE',\n",
    "       'NONLIVINGAPARTMENTS_AVG', 'FONDKAPREMONT_MODE',\n",
    "       'LIVINGAPARTMENTS_MODE', 'LIVINGAPARTMENTS_MEDI',\n",
    "       'LIVINGAPARTMENTS_AVG', 'FLOORSMIN_MODE', 'FLOORSMIN_MEDI',\n",
    "       'FLOORSMIN_AVG', 'YEARS_BUILD_MODE', 'YEARS_BUILD_MEDI',\n",
    "       'YEARS_BUILD_AVG', 'OWN_CAR_AGE', 'LANDAREA_AVG', 'LANDAREA_MEDI',\n",
    "       'LANDAREA_MODE', 'BASEMENTAREA_MEDI', 'BASEMENTAREA_AVG',\n",
    "       'BASEMENTAREA_MODE', 'NONLIVINGAREA_MEDI',\n",
    "       'NONLIVINGAREA_MODE', 'NONLIVINGAREA_AVG', 'ELEVATORS_MEDI',\n",
    "       'ELEVATORS_MODE', 'ELEVATORS_AVG', 'WALLSMATERIAL_MODE',\n",
    "       'APARTMENTS_MODE', 'APARTMENTS_MEDI', 'APARTMENTS_AVG',\n",
    "       'ENTRANCES_MODE', 'ENTRANCES_AVG', 'ENTRANCES_MEDI', 'LIVINGAREA_MEDI',\n",
    "       'LIVINGAREA_MODE', 'LIVINGAREA_AVG', 'HOUSETYPE_MODE', 'FLOORSMAX_MEDI',\n",
    "       'FLOORSMAX_AVG', 'FLOORSMAX_MODE', 'YEARS_BEGINEXPLUATATION_AVG',\n",
    "       'YEARS_BEGINEXPLUATATION_MEDI', 'YEARS_BEGINEXPLUATATION_MODE',\n",
    "       'TOTALAREA_MODE', 'EMERGENCYSTATE_MODE', 'OCCUPATION_TYPE'], axis = 1)\n",
    "train_data"
   ]
  },
  {
   "cell_type": "code",
   "execution_count": null,
   "metadata": {
    "execution": {
     "iopub.execute_input": "2022-12-06T11:59:56.142352Z",
     "iopub.status.busy": "2022-12-06T11:59:56.141858Z",
     "iopub.status.idle": "2022-12-06T11:59:56.212271Z",
     "shell.execute_reply": "2022-12-06T11:59:56.211215Z",
     "shell.execute_reply.started": "2022-12-06T11:59:56.142306Z"
    }
   },
   "outputs": [],
   "source": [
    "test_data = test_data.drop(['COMMONAREA_MEDI', 'COMMONAREA_AVG', 'COMMONAREA_MODE',\n",
    "       'NONLIVINGAPARTMENTS_MEDI', 'NONLIVINGAPARTMENTS_MODE',\n",
    "       'NONLIVINGAPARTMENTS_AVG', 'FONDKAPREMONT_MODE',\n",
    "       'LIVINGAPARTMENTS_MODE', 'LIVINGAPARTMENTS_MEDI',\n",
    "       'LIVINGAPARTMENTS_AVG', 'FLOORSMIN_MODE', 'FLOORSMIN_MEDI',\n",
    "       'FLOORSMIN_AVG', 'YEARS_BUILD_MODE', 'YEARS_BUILD_MEDI',\n",
    "       'YEARS_BUILD_AVG', 'OWN_CAR_AGE', 'LANDAREA_AVG', 'LANDAREA_MEDI',\n",
    "       'LANDAREA_MODE', 'BASEMENTAREA_MEDI', 'BASEMENTAREA_AVG',\n",
    "       'BASEMENTAREA_MODE', 'NONLIVINGAREA_MEDI',\n",
    "       'NONLIVINGAREA_MODE', 'NONLIVINGAREA_AVG', 'ELEVATORS_MEDI',\n",
    "       'ELEVATORS_MODE', 'ELEVATORS_AVG', 'WALLSMATERIAL_MODE',\n",
    "       'APARTMENTS_MODE', 'APARTMENTS_MEDI', 'APARTMENTS_AVG',\n",
    "       'ENTRANCES_MODE', 'ENTRANCES_AVG', 'ENTRANCES_MEDI', 'LIVINGAREA_MEDI',\n",
    "       'LIVINGAREA_MODE', 'LIVINGAREA_AVG', 'HOUSETYPE_MODE', 'FLOORSMAX_MEDI',\n",
    "       'FLOORSMAX_AVG', 'FLOORSMAX_MODE', 'YEARS_BEGINEXPLUATATION_AVG',\n",
    "       'YEARS_BEGINEXPLUATATION_MEDI', 'YEARS_BEGINEXPLUATATION_MODE',\n",
    "       'TOTALAREA_MODE', 'EMERGENCYSTATE_MODE', 'OCCUPATION_TYPE'], axis = 1)\n",
    "test_data.head()"
   ]
  },
  {
   "cell_type": "code",
   "execution_count": null,
   "metadata": {
    "execution": {
     "iopub.execute_input": "2022-12-06T11:59:56.214330Z",
     "iopub.status.busy": "2022-12-06T11:59:56.214001Z",
     "iopub.status.idle": "2022-12-06T11:59:56.222659Z",
     "shell.execute_reply": "2022-12-06T11:59:56.221484Z",
     "shell.execute_reply.started": "2022-12-06T11:59:56.214301Z"
    }
   },
   "outputs": [],
   "source": [
    "# https://www.kaggle.com/code/willkoehrsen/start-here-a-gentle-introduction?scriptVersionId=5301226&cellId=16\n",
    "\n",
    "def missing_values_table(df):\n",
    "\n",
    "        mis_val = df.isnull().sum()\n",
    "        \n",
    "        mis_val_percent = 100 * df.isnull().sum() / len(df)\n",
    "        \n",
    "        # таблица с рез-тами\n",
    "        mis_val_table = pd.concat([mis_val, mis_val_percent], axis=1)\n",
    "        \n",
    "        mis_val_table_ren_columns = mis_val_table.rename(\n",
    "        columns = {0 : 'Missing Values', 1 : '% of Total Values'})\n",
    "        \n",
    "        mis_val_table_ren_columns = mis_val_table_ren_columns[\n",
    "            mis_val_table_ren_columns.iloc[:,1] != 0].sort_values(\n",
    "        '% of Total Values', ascending=False).round(1)\n",
    "        \n",
    "        print (\"Your selected dataframe has \" + str(df.shape[1]) + \" columns.\\n\"      \n",
    "            \"There are \" + str(mis_val_table_ren_columns.shape[0]) +\n",
    "              \" columns that have missing values.\")\n",
    "        \n",
    "        return mis_val_table_ren_columns"
   ]
  },
  {
   "cell_type": "code",
   "execution_count": null,
   "metadata": {
    "_kg_hide-input": true,
    "execution": {
     "iopub.execute_input": "2022-12-06T11:59:56.224954Z",
     "iopub.status.busy": "2022-12-06T11:59:56.224304Z",
     "iopub.status.idle": "2022-12-06T11:59:56.585908Z",
     "shell.execute_reply": "2022-12-06T11:59:56.584876Z",
     "shell.execute_reply.started": "2022-12-06T11:59:56.224909Z"
    }
   },
   "outputs": [],
   "source": [
    "missing_values = missing_values_table(train_data)\n",
    "missing_values.loc[missing_values['% of Total Values'] > 5].index"
   ]
  },
  {
   "cell_type": "code",
   "execution_count": null,
   "metadata": {
    "execution": {
     "iopub.execute_input": "2022-12-06T11:59:56.587814Z",
     "iopub.status.busy": "2022-12-06T11:59:56.587458Z",
     "iopub.status.idle": "2022-12-06T11:59:56.949990Z",
     "shell.execute_reply": "2022-12-06T11:59:56.948761Z",
     "shell.execute_reply.started": "2022-12-06T11:59:56.587783Z"
    }
   },
   "outputs": [],
   "source": [
    "missing_values = missing_values_table(train_data)\n",
    "missing_values"
   ]
  },
  {
   "cell_type": "code",
   "execution_count": null,
   "metadata": {
    "execution": {
     "iopub.execute_input": "2022-12-06T11:59:56.951696Z",
     "iopub.status.busy": "2022-12-06T11:59:56.951336Z",
     "iopub.status.idle": "2022-12-06T11:59:57.016215Z",
     "shell.execute_reply": "2022-12-06T11:59:57.014967Z",
     "shell.execute_reply.started": "2022-12-06T11:59:56.951661Z"
    }
   },
   "outputs": [],
   "source": [
    "# столбцы имеют не так много пропусков, но и не несут полезной информации\n",
    "\n",
    "train_data = train_data.drop(['NAME_TYPE_SUITE', 'AMT_GOODS_PRICE'], axis = 1)"
   ]
  },
  {
   "cell_type": "code",
   "execution_count": null,
   "metadata": {
    "execution": {
     "iopub.execute_input": "2022-12-06T11:59:57.017960Z",
     "iopub.status.busy": "2022-12-06T11:59:57.017598Z",
     "iopub.status.idle": "2022-12-06T11:59:57.034270Z",
     "shell.execute_reply": "2022-12-06T11:59:57.032958Z",
     "shell.execute_reply.started": "2022-12-06T11:59:57.017928Z"
    }
   },
   "outputs": [],
   "source": [
    "test_data = test_data.drop(['NAME_TYPE_SUITE', 'AMT_GOODS_PRICE'], axis = 1)"
   ]
  },
  {
   "cell_type": "code",
   "execution_count": null,
   "metadata": {
    "execution": {
     "iopub.execute_input": "2022-12-06T11:59:57.036988Z",
     "iopub.status.busy": "2022-12-06T11:59:57.036227Z",
     "iopub.status.idle": "2022-12-06T11:59:57.091800Z",
     "shell.execute_reply": "2022-12-06T11:59:57.090635Z",
     "shell.execute_reply.started": "2022-12-06T11:59:57.036940Z"
    }
   },
   "outputs": [],
   "source": [
    "test_data.head()"
   ]
  },
  {
   "cell_type": "code",
   "execution_count": null,
   "metadata": {
    "execution": {
     "iopub.execute_input": "2022-12-06T11:59:57.093384Z",
     "iopub.status.busy": "2022-12-06T11:59:57.093039Z",
     "iopub.status.idle": "2022-12-06T11:59:57.148112Z",
     "shell.execute_reply": "2022-12-06T11:59:57.146954Z",
     "shell.execute_reply.started": "2022-12-06T11:59:57.093353Z"
    }
   },
   "outputs": [],
   "source": [
    "train_data.head()"
   ]
  },
  {
   "cell_type": "code",
   "execution_count": null,
   "metadata": {
    "execution": {
     "iopub.execute_input": "2022-12-06T11:59:57.149927Z",
     "iopub.status.busy": "2022-12-06T11:59:57.149552Z",
     "iopub.status.idle": "2022-12-06T11:59:57.158143Z",
     "shell.execute_reply": "2022-12-06T11:59:57.156918Z",
     "shell.execute_reply.started": "2022-12-06T11:59:57.149896Z"
    }
   },
   "outputs": [],
   "source": [
    "with pd.option_context('display.max_rows', None, 'display.max_columns', None):\n",
    "    print(train_data.dtypes)"
   ]
  },
  {
   "cell_type": "code",
   "execution_count": null,
   "metadata": {
    "execution": {
     "iopub.execute_input": "2022-12-06T11:59:57.160608Z",
     "iopub.status.busy": "2022-12-06T11:59:57.159813Z",
     "iopub.status.idle": "2022-12-06T11:59:57.169104Z",
     "shell.execute_reply": "2022-12-06T11:59:57.167706Z",
     "shell.execute_reply.started": "2022-12-06T11:59:57.160561Z"
    }
   },
   "outputs": [],
   "source": [
    "# Типы данных оставшихся переменных, имеющих пропущенные значения:\n",
    "\n",
    "\n",
    "# EXT_SOURCE_2 - float64, заменим средним\n",
    "# AMT_ANNUITY - float64, заменим средним\n",
    "# CNT_FAM_MEMBERS - float64, заменим наиболее распростаненным значением\n",
    "# DAYS_LAST_PHONE_CHANGE - float64, заменим средним"
   ]
  },
  {
   "cell_type": "code",
   "execution_count": null,
   "metadata": {
    "execution": {
     "iopub.execute_input": "2022-12-06T11:59:57.170947Z",
     "iopub.status.busy": "2022-12-06T11:59:57.170529Z",
     "iopub.status.idle": "2022-12-06T11:59:57.203942Z",
     "shell.execute_reply": "2022-12-06T11:59:57.202675Z",
     "shell.execute_reply.started": "2022-12-06T11:59:57.170911Z"
    }
   },
   "outputs": [],
   "source": [
    "train_data[['EXT_SOURCE_2', 'AMT_ANNUITY', 'CNT_FAM_MEMBERS', 'DAYS_LAST_PHONE_CHANGE']]"
   ]
  },
  {
   "cell_type": "code",
   "execution_count": null,
   "metadata": {
    "execution": {
     "iopub.execute_input": "2022-12-06T11:59:57.205809Z",
     "iopub.status.busy": "2022-12-06T11:59:57.205330Z",
     "iopub.status.idle": "2022-12-06T11:59:57.215899Z",
     "shell.execute_reply": "2022-12-06T11:59:57.214877Z",
     "shell.execute_reply.started": "2022-12-06T11:59:57.205774Z"
    }
   },
   "outputs": [],
   "source": [
    "# заменим Nan в EXT_SOURCE_2 средним значением\n",
    "mean_ext_src_2 = train_data[\"EXT_SOURCE_2\"].astype(\"float\").mean(axis = 0)\n",
    "train_data['EXT_SOURCE_2'].replace(np.nan, mean_ext_src_2, inplace = True)"
   ]
  },
  {
   "cell_type": "code",
   "execution_count": null,
   "metadata": {
    "execution": {
     "iopub.execute_input": "2022-12-06T11:59:57.218891Z",
     "iopub.status.busy": "2022-12-06T11:59:57.217952Z",
     "iopub.status.idle": "2022-12-06T11:59:57.229072Z",
     "shell.execute_reply": "2022-12-06T11:59:57.228007Z",
     "shell.execute_reply.started": "2022-12-06T11:59:57.218843Z"
    }
   },
   "outputs": [],
   "source": [
    "# заменим Nan в AMT_ANNUITY средним значением\n",
    "mean_annuity = train_data[\"AMT_ANNUITY\"].astype(\"float\").mean(axis = 0)\n",
    "train_data['AMT_ANNUITY'].replace(np.nan, mean_annuity, inplace = True)"
   ]
  },
  {
   "cell_type": "code",
   "execution_count": null,
   "metadata": {
    "execution": {
     "iopub.execute_input": "2022-12-06T11:59:57.231800Z",
     "iopub.status.busy": "2022-12-06T11:59:57.231029Z",
     "iopub.status.idle": "2022-12-06T11:59:57.243189Z",
     "shell.execute_reply": "2022-12-06T11:59:57.242111Z",
     "shell.execute_reply.started": "2022-12-06T11:59:57.231753Z"
    }
   },
   "outputs": [],
   "source": [
    "# заменим Nan в DAYS_LAST_PHONE_CHANGE средним значением\n",
    "mean_days = train_data[\"DAYS_LAST_PHONE_CHANGE\"].astype(\"float\").mean(axis = 0)\n",
    "train_data['DAYS_LAST_PHONE_CHANGE'].replace(np.nan, mean_days, inplace = True)"
   ]
  },
  {
   "cell_type": "code",
   "execution_count": null,
   "metadata": {
    "execution": {
     "iopub.execute_input": "2022-12-06T11:59:57.245606Z",
     "iopub.status.busy": "2022-12-06T11:59:57.244842Z",
     "iopub.status.idle": "2022-12-06T11:59:57.262254Z",
     "shell.execute_reply": "2022-12-06T11:59:57.261052Z",
     "shell.execute_reply.started": "2022-12-06T11:59:57.245558Z"
    }
   },
   "outputs": [],
   "source": [
    "train_data['CNT_FAM_MEMBERS'].value_counts()"
   ]
  },
  {
   "cell_type": "code",
   "execution_count": null,
   "metadata": {
    "execution": {
     "iopub.execute_input": "2022-12-06T11:59:57.270675Z",
     "iopub.status.busy": "2022-12-06T11:59:57.270202Z",
     "iopub.status.idle": "2022-12-06T11:59:57.277733Z",
     "shell.execute_reply": "2022-12-06T11:59:57.276471Z",
     "shell.execute_reply.started": "2022-12-06T11:59:57.270637Z"
    }
   },
   "outputs": [],
   "source": [
    "train_data['CNT_FAM_MEMBERS'].replace(np.nan, 2.0, inplace = True)"
   ]
  },
  {
   "cell_type": "markdown",
   "metadata": {},
   "source": [
    "## Форматирование данных"
   ]
  },
  {
   "cell_type": "code",
   "execution_count": null,
   "metadata": {
    "execution": {
     "iopub.execute_input": "2022-12-06T11:59:57.279711Z",
     "iopub.status.busy": "2022-12-06T11:59:57.279205Z",
     "iopub.status.idle": "2022-12-06T11:59:57.336775Z",
     "shell.execute_reply": "2022-12-06T11:59:57.335434Z",
     "shell.execute_reply.started": "2022-12-06T11:59:57.279672Z"
    }
   },
   "outputs": [],
   "source": [
    "train_data.head()"
   ]
  },
  {
   "cell_type": "markdown",
   "metadata": {},
   "source": [
    "Для удобства восприятия колонки, отображающие кол-во дней, сделаем положительными числами"
   ]
  },
  {
   "cell_type": "code",
   "execution_count": null,
   "metadata": {
    "execution": {
     "iopub.execute_input": "2022-12-06T11:59:57.338851Z",
     "iopub.status.busy": "2022-12-06T11:59:57.338019Z",
     "iopub.status.idle": "2022-12-06T11:59:57.346342Z",
     "shell.execute_reply": "2022-12-06T11:59:57.345463Z",
     "shell.execute_reply.started": "2022-12-06T11:59:57.338814Z"
    }
   },
   "outputs": [],
   "source": [
    "train_data['DAYS_BIRTH'] = abs(train_data['DAYS_BIRTH'])\n",
    "test_data['DAYS_BIRTH'] = abs(test_data['DAYS_BIRTH'])"
   ]
  },
  {
   "cell_type": "code",
   "execution_count": null,
   "metadata": {
    "execution": {
     "iopub.execute_input": "2022-12-06T11:59:57.348479Z",
     "iopub.status.busy": "2022-12-06T11:59:57.347476Z",
     "iopub.status.idle": "2022-12-06T11:59:57.358618Z",
     "shell.execute_reply": "2022-12-06T11:59:57.357575Z",
     "shell.execute_reply.started": "2022-12-06T11:59:57.348444Z"
    }
   },
   "outputs": [],
   "source": [
    "train_data['DAYS_EMPLOYED'] = abs(train_data['DAYS_EMPLOYED'])\n",
    "test_data['DAYS_EMPLOYED'] = abs(test_data['DAYS_EMPLOYED'])"
   ]
  },
  {
   "cell_type": "code",
   "execution_count": null,
   "metadata": {
    "execution": {
     "iopub.execute_input": "2022-12-06T11:59:57.360085Z",
     "iopub.status.busy": "2022-12-06T11:59:57.359777Z",
     "iopub.status.idle": "2022-12-06T11:59:57.371132Z",
     "shell.execute_reply": "2022-12-06T11:59:57.370229Z",
     "shell.execute_reply.started": "2022-12-06T11:59:57.360058Z"
    }
   },
   "outputs": [],
   "source": [
    "train_data['DAYS_REGISTRATION'] = abs(train_data['DAYS_REGISTRATION'])\n",
    "test_data['DAYS_REGISTRATION'] = abs(test_data['DAYS_REGISTRATION'])"
   ]
  },
  {
   "cell_type": "code",
   "execution_count": null,
   "metadata": {
    "execution": {
     "iopub.execute_input": "2022-12-06T11:59:57.373193Z",
     "iopub.status.busy": "2022-12-06T11:59:57.372314Z",
     "iopub.status.idle": "2022-12-06T11:59:57.384027Z",
     "shell.execute_reply": "2022-12-06T11:59:57.383105Z",
     "shell.execute_reply.started": "2022-12-06T11:59:57.373156Z"
    }
   },
   "outputs": [],
   "source": [
    "train_data['DAYS_ID_PUBLISH'] = abs(train_data['DAYS_ID_PUBLISH'])\n",
    "test_data['DAYS_ID_PUBLISH'] = abs(test_data['DAYS_ID_PUBLISH'])"
   ]
  },
  {
   "cell_type": "code",
   "execution_count": null,
   "metadata": {
    "execution": {
     "iopub.execute_input": "2022-12-06T11:59:57.385879Z",
     "iopub.status.busy": "2022-12-06T11:59:57.385326Z",
     "iopub.status.idle": "2022-12-06T11:59:57.397914Z",
     "shell.execute_reply": "2022-12-06T11:59:57.397017Z",
     "shell.execute_reply.started": "2022-12-06T11:59:57.385846Z"
    }
   },
   "outputs": [],
   "source": [
    "with pd.option_context('display.max_rows', None, 'display.max_columns', None):\n",
    "    print(train_data.dtypes)"
   ]
  },
  {
   "cell_type": "markdown",
   "metadata": {},
   "source": [
    "Типы данных не требуют корректировок"
   ]
  },
  {
   "cell_type": "markdown",
   "metadata": {},
   "source": [
    "## Нормализация данных"
   ]
  },
  {
   "cell_type": "code",
   "execution_count": null,
   "metadata": {},
   "outputs": [],
   "source": []
  },
  {
   "cell_type": "markdown",
   "metadata": {},
   "source": [
    "## Создание фиктивных переменных"
   ]
  },
  {
   "cell_type": "markdown",
   "metadata": {},
   "source": [
    "Будем использовать метод get_dummies"
   ]
  },
  {
   "cell_type": "code",
   "execution_count": null,
   "metadata": {
    "execution": {
     "iopub.execute_input": "2022-12-06T11:59:57.400016Z",
     "iopub.status.busy": "2022-12-06T11:59:57.399375Z",
     "iopub.status.idle": "2022-12-06T11:59:58.051870Z",
     "shell.execute_reply": "2022-12-06T11:59:58.050645Z",
     "shell.execute_reply.started": "2022-12-06T11:59:57.399981Z"
    }
   },
   "outputs": [],
   "source": [
    "train_data = pd.get_dummies(train_data)\n",
    "test_data = pd.get_dummies(test_data)\n",
    "\n",
    "print('train_data shape: ', train_data.shape)\n",
    "print('test_data shape: ', test_data.shape)"
   ]
  },
  {
   "cell_type": "markdown",
   "metadata": {},
   "source": [
    "Для тренировочного датасета создалось больше переменных, чем для тестового. Чтобы это исправить, используем align  https://www.kaggle.com/code/willkoehrsen/start-here-a-gentle-introduction?scriptVersionId=5301226&cellId=29"
   ]
  },
  {
   "cell_type": "code",
   "execution_count": null,
   "metadata": {
    "execution": {
     "iopub.execute_input": "2022-12-06T11:59:58.053622Z",
     "iopub.status.busy": "2022-12-06T11:59:58.053238Z",
     "iopub.status.idle": "2022-12-06T11:59:58.252563Z",
     "shell.execute_reply": "2022-12-06T11:59:58.251171Z",
     "shell.execute_reply.started": "2022-12-06T11:59:58.053588Z"
    }
   },
   "outputs": [],
   "source": [
    "train_labels = train_data['TARGET']\n",
    "\n",
    "train_data, test_data = train_data.align(test_data, join = 'inner', axis = 1)\n",
    "\n",
    "# выносим целевую переменную в отдельный сет\n",
    "train_data['TARGET'] = train_labels\n",
    "\n",
    "print('Training Features shape: ', train_data.shape)\n",
    "print('Testing Features shape: ', test_data.shape)"
   ]
  },
  {
   "cell_type": "code",
   "execution_count": null,
   "metadata": {
    "execution": {
     "iopub.execute_input": "2022-12-06T11:59:58.254558Z",
     "iopub.status.busy": "2022-12-06T11:59:58.254082Z",
     "iopub.status.idle": "2022-12-06T11:59:59.809830Z",
     "shell.execute_reply": "2022-12-06T11:59:59.808583Z",
     "shell.execute_reply.started": "2022-12-06T11:59:58.254514Z"
    }
   },
   "outputs": [],
   "source": [
    "train_data.describe()"
   ]
  },
  {
   "cell_type": "markdown",
   "metadata": {},
   "source": [
    "# Корреляция между признаками"
   ]
  },
  {
   "cell_type": "markdown",
   "metadata": {},
   "source": [
    "с целью выбрать признаки, объясняющие нашу целевую переменную, воспользуемся коэффициентом корреляции Пирсона. Для переменных с высокими модулями зависимости относительно остальных посмотрим и P-value. Примем уровень значимрсти равным 5%"
   ]
  },
  {
   "cell_type": "code",
   "execution_count": null,
   "metadata": {
    "execution": {
     "iopub.execute_input": "2022-12-06T11:59:59.811862Z",
     "iopub.status.busy": "2022-12-06T11:59:59.811395Z",
     "iopub.status.idle": "2022-12-06T12:00:20.512904Z",
     "shell.execute_reply": "2022-12-06T12:00:20.511529Z",
     "shell.execute_reply.started": "2022-12-06T11:59:59.811820Z"
    }
   },
   "outputs": [],
   "source": [
    "correlations = train_data.corr()['TARGET'].sort_values()\n",
    "\n",
    "\n",
    "print('Прямая зависимость:\\n', correlations.tail(15))\n",
    "print('\\nОбратная зависимость:\\n', correlations.head(15))"
   ]
  },
  {
   "cell_type": "markdown",
   "metadata": {},
   "source": [
    "среди переменных не выявлено сильной зависимости с target (модуль коэффициента Пирсона довольно близок к нулю), это можем объяснить тем, что при использовании неповеденческих характеристик велика доля случайности. \n",
    "\n",
    "Проверим подробнее и проанализируем на предмет включения в модель признаки EXT_SOURCE_3,EXT_SOURCE_2,EXT_SOURCE_1, DAYS_EMPLOYED, DAYS_BIRTH "
   ]
  },
  {
   "cell_type": "markdown",
   "metadata": {},
   "source": [
    "### DAYS_BIRTH"
   ]
  },
  {
   "cell_type": "code",
   "execution_count": null,
   "metadata": {
    "execution": {
     "iopub.execute_input": "2022-12-06T12:00:20.515076Z",
     "iopub.status.busy": "2022-12-06T12:00:20.514687Z",
     "iopub.status.idle": "2022-12-06T12:00:20.530971Z",
     "shell.execute_reply": "2022-12-06T12:00:20.529478Z",
     "shell.execute_reply.started": "2022-12-06T12:00:20.515035Z"
    }
   },
   "outputs": [],
   "source": [
    "\n",
    "pearson_coef, p_value = stats.pearsonr(train_data['DAYS_BIRTH'], \\\n",
    "                                       train_data['TARGET'])"
   ]
  },
  {
   "cell_type": "code",
   "execution_count": null,
   "metadata": {
    "execution": {
     "iopub.execute_input": "2022-12-06T12:00:20.533789Z",
     "iopub.status.busy": "2022-12-06T12:00:20.532492Z",
     "iopub.status.idle": "2022-12-06T12:00:20.542268Z",
     "shell.execute_reply": "2022-12-06T12:00:20.540759Z",
     "shell.execute_reply.started": "2022-12-06T12:00:20.533734Z"
    }
   },
   "outputs": [],
   "source": [
    "pearson_coef, p_value"
   ]
  },
  {
   "cell_type": "markdown",
   "metadata": {},
   "source": [
    "с p_value всё ок, наблюдается обратная зависимость между возрастом и TARGET = 1. То есть чем старше клиент, тем исправнее он платит.\n",
    "Визуализируем зависимость переменной и TARGET при помощи kde, чтобы выявить, насколько хорошо различаются выборки"
   ]
  },
  {
   "cell_type": "code",
   "execution_count": null,
   "metadata": {
    "execution": {
     "iopub.execute_input": "2022-12-06T12:00:20.544997Z",
     "iopub.status.busy": "2022-12-06T12:00:20.544267Z",
     "iopub.status.idle": "2022-12-06T12:00:21.948120Z",
     "shell.execute_reply": "2022-12-06T12:00:21.946804Z",
     "shell.execute_reply.started": "2022-12-06T12:00:20.544949Z"
    }
   },
   "outputs": [],
   "source": [
    "# KDE для выплаченных займов\n",
    "sns.kdeplot(train_data.loc[train_data['TARGET'] == 0, 'DAYS_BIRTH'] / 365, label = 'target == 0')\n",
    "\n",
    "# KDE для невыплаченных займов\n",
    "sns.kdeplot(train_data.loc[train_data['TARGET'] == 1, 'DAYS_BIRTH'] / 365, label = 'target == 1')\n",
    "\n",
    "plt.xlabel('Age '); plt.ylabel('Density');"
   ]
  },
  {
   "cell_type": "code",
   "execution_count": null,
   "metadata": {
    "execution": {
     "iopub.execute_input": "2022-12-06T12:00:21.950832Z",
     "iopub.status.busy": "2022-12-06T12:00:21.949869Z",
     "iopub.status.idle": "2022-12-06T12:00:22.776761Z",
     "shell.execute_reply": "2022-12-06T12:00:22.775501Z",
     "shell.execute_reply.started": "2022-12-06T12:00:21.950793Z"
    }
   },
   "outputs": [],
   "source": [
    "plt.boxplot(train_data[train_data['TARGET'] == 0]['DAYS_BIRTH'] / 365)\n",
    "plt.show()\n",
    "print((train_data[train_data['TARGET'] == 0]['DAYS_BIRTH'] / 365).describe())\n",
    "\n",
    "\n",
    "plt.boxplot(train_data[train_data['TARGET'] == 1]['DAYS_BIRTH'] / 365)\n",
    "plt.show()\n",
    "print((train_data[train_data['TARGET'] == 1]['DAYS_BIRTH'] / 365).describe())"
   ]
  },
  {
   "cell_type": "markdown",
   "metadata": {},
   "source": [
    "Действительно, видим, что значение медианы возраста недобросовестных кредитоплательщиков меньше. "
   ]
  },
  {
   "cell_type": "markdown",
   "metadata": {},
   "source": [
    "### DAYS_EMPLOYED"
   ]
  },
  {
   "cell_type": "markdown",
   "metadata": {},
   "source": [
    "Несмотря на то, что кэф корреляции с таргет невысокий, я бы всё равно проверила эту фичу, так как зачастую большой опыт работы сотрудника положительно коррелирует с исправными выплатами по обязательствам."
   ]
  },
  {
   "cell_type": "code",
   "execution_count": null,
   "metadata": {
    "execution": {
     "iopub.execute_input": "2022-12-06T12:00:22.779282Z",
     "iopub.status.busy": "2022-12-06T12:00:22.778403Z",
     "iopub.status.idle": "2022-12-06T12:00:22.797998Z",
     "shell.execute_reply": "2022-12-06T12:00:22.796507Z",
     "shell.execute_reply.started": "2022-12-06T12:00:22.779242Z"
    }
   },
   "outputs": [],
   "source": [
    "pearson_coef, p_value = stats.pearsonr(train_data['DAYS_EMPLOYED'], \\\n",
    "                                       train_data['TARGET'])\n",
    "pearson_coef, p_value"
   ]
  },
  {
   "cell_type": "markdown",
   "metadata": {},
   "source": [
    "Переменная значима, визуализируем её по классам"
   ]
  },
  {
   "cell_type": "code",
   "execution_count": null,
   "metadata": {
    "execution": {
     "iopub.execute_input": "2022-12-06T12:00:22.804614Z",
     "iopub.status.busy": "2022-12-06T12:00:22.803609Z",
     "iopub.status.idle": "2022-12-06T12:00:23.725748Z",
     "shell.execute_reply": "2022-12-06T12:00:23.724437Z",
     "shell.execute_reply.started": "2022-12-06T12:00:22.804557Z"
    }
   },
   "outputs": [],
   "source": [
    "plt.boxplot(train_data[train_data['TARGET'] == 0]['DAYS_EMPLOYED'].dropna())\n",
    "plt.show()\n",
    "print((train_data[train_data['TARGET'] == 0]['DAYS_EMPLOYED'].dropna()).describe())\n",
    "\n",
    "\n",
    "plt.boxplot(train_data[train_data['TARGET'] == 1]['DAYS_EMPLOYED'].dropna())\n",
    "plt.show()\n",
    "print((train_data[train_data['TARGET'] == 1]['DAYS_EMPLOYED'].dropna()).describe())"
   ]
  },
  {
   "cell_type": "markdown",
   "metadata": {},
   "source": [
    "Обнаружены выбросы! Почистим их"
   ]
  },
  {
   "cell_type": "code",
   "execution_count": null,
   "metadata": {
    "execution": {
     "iopub.execute_input": "2022-12-06T12:00:23.727381Z",
     "iopub.status.busy": "2022-12-06T12:00:23.727046Z",
     "iopub.status.idle": "2022-12-06T12:00:23.748246Z",
     "shell.execute_reply": "2022-12-06T12:00:23.746983Z",
     "shell.execute_reply.started": "2022-12-06T12:00:23.727351Z"
    }
   },
   "outputs": [],
   "source": [
    "(train_data['DAYS_EMPLOYED'] ).describe()"
   ]
  },
  {
   "cell_type": "code",
   "execution_count": null,
   "metadata": {
    "execution": {
     "iopub.execute_input": "2022-12-06T12:00:23.750495Z",
     "iopub.status.busy": "2022-12-06T12:00:23.749947Z",
     "iopub.status.idle": "2022-12-06T12:00:23.799940Z",
     "shell.execute_reply": "2022-12-06T12:00:23.798930Z",
     "shell.execute_reply.started": "2022-12-06T12:00:23.750414Z"
    }
   },
   "outputs": [],
   "source": [
    "# Значение 365243.000000 заменим NaN, затем высчитаем медиану в переменной без выбросов и \n",
    "# заменим NaN правильной медианой\n",
    "\n",
    "train_data['DAYS_EMPLOYED_ANOM'] = 1*(train_data['DAYS_EMPLOYED'] == 365243)\n",
    "test_data['DAYS_EMPLOYED_ANOM'] = 1*(test_data['DAYS_EMPLOYED'] == 365243)\n",
    "train_data[\"DAYS_EMPLOYED\"].replace({365243: np.nan}, inplace=True)\n",
    "test_data[\"DAYS_EMPLOYED\"].replace({365243: np.nan}, inplace=True)"
   ]
  },
  {
   "cell_type": "code",
   "execution_count": null,
   "metadata": {
    "execution": {
     "iopub.execute_input": "2022-12-06T12:00:23.801906Z",
     "iopub.status.busy": "2022-12-06T12:00:23.801434Z",
     "iopub.status.idle": "2022-12-06T12:00:23.835042Z",
     "shell.execute_reply": "2022-12-06T12:00:23.833847Z",
     "shell.execute_reply.started": "2022-12-06T12:00:23.801861Z"
    }
   },
   "outputs": [],
   "source": [
    "(train_data['DAYS_EMPLOYED']).describe()"
   ]
  },
  {
   "cell_type": "code",
   "execution_count": null,
   "metadata": {
    "execution": {
     "iopub.execute_input": "2022-12-06T12:00:23.836594Z",
     "iopub.status.busy": "2022-12-06T12:00:23.836253Z",
     "iopub.status.idle": "2022-12-06T12:00:23.847124Z",
     "shell.execute_reply": "2022-12-06T12:00:23.845899Z",
     "shell.execute_reply.started": "2022-12-06T12:00:23.836564Z"
    }
   },
   "outputs": [],
   "source": [
    "# заменим Nan в DAYS_EMPLOYED средним значением\n",
    "mean_seniority = train_data[\"DAYS_EMPLOYED\"].astype(\"float\").mean(axis = 0)\n",
    "train_data['DAYS_EMPLOYED'].replace(np.nan, mean_seniority, inplace = True)"
   ]
  },
  {
   "cell_type": "code",
   "execution_count": null,
   "metadata": {
    "execution": {
     "iopub.execute_input": "2022-12-06T12:00:23.849008Z",
     "iopub.status.busy": "2022-12-06T12:00:23.848626Z",
     "iopub.status.idle": "2022-12-06T12:00:23.857737Z",
     "shell.execute_reply": "2022-12-06T12:00:23.856502Z",
     "shell.execute_reply.started": "2022-12-06T12:00:23.848973Z"
    }
   },
   "outputs": [],
   "source": [
    "# заменим Nan в DAYS_EMPLOYED средним значением\n",
    "mean_seniority = test_data[\"DAYS_EMPLOYED\"].astype(\"float\").mean(axis = 0)\n",
    "test_data['DAYS_EMPLOYED'].replace(np.nan, mean_seniority, inplace = True)"
   ]
  },
  {
   "cell_type": "code",
   "execution_count": null,
   "metadata": {
    "execution": {
     "iopub.execute_input": "2022-12-06T12:00:23.860123Z",
     "iopub.status.busy": "2022-12-06T12:00:23.859414Z",
     "iopub.status.idle": "2022-12-06T12:00:24.060488Z",
     "shell.execute_reply": "2022-12-06T12:00:24.059190Z",
     "shell.execute_reply.started": "2022-12-06T12:00:23.860074Z"
    }
   },
   "outputs": [],
   "source": [
    "(train_data['DAYS_EMPLOYED'] / 365).describe()\n",
    "plt.boxplot((train_data['DAYS_EMPLOYED'] / 365).dropna())\n",
    "plt.show()"
   ]
  },
  {
   "cell_type": "markdown",
   "metadata": {},
   "source": [
    "Теперь выбросов нет. Сразу откорректируем тестовый датасет"
   ]
  },
  {
   "cell_type": "code",
   "execution_count": null,
   "metadata": {
    "execution": {
     "iopub.execute_input": "2022-12-06T12:00:24.062200Z",
     "iopub.status.busy": "2022-12-06T12:00:24.061855Z",
     "iopub.status.idle": "2022-12-06T12:00:24.214266Z",
     "shell.execute_reply": "2022-12-06T12:00:24.213049Z",
     "shell.execute_reply.started": "2022-12-06T12:00:24.062168Z"
    }
   },
   "outputs": [],
   "source": [
    "(test_data['DAYS_EMPLOYED'] / 365).describe()\n",
    "plt.boxplot((test_data['DAYS_EMPLOYED'] / 365).dropna())\n",
    "plt.show()"
   ]
  },
  {
   "cell_type": "markdown",
   "metadata": {},
   "source": [
    "Вернемся к визуализации зависимости целевой переменной от опыта работы"
   ]
  },
  {
   "cell_type": "code",
   "execution_count": null,
   "metadata": {
    "execution": {
     "iopub.execute_input": "2022-12-06T12:00:24.217160Z",
     "iopub.status.busy": "2022-12-06T12:00:24.215874Z",
     "iopub.status.idle": "2022-12-06T12:00:25.187218Z",
     "shell.execute_reply": "2022-12-06T12:00:25.184481Z",
     "shell.execute_reply.started": "2022-12-06T12:00:24.217109Z"
    }
   },
   "outputs": [],
   "source": [
    "plt.boxplot(train_data[train_data['TARGET'] == 0]['DAYS_EMPLOYED'].dropna() / 365, vert = False)\n",
    "plt.show()\n",
    "print((train_data[train_data['TARGET'] == 0]['DAYS_EMPLOYED'].dropna()/ 365).describe())\n",
    "\n",
    "plt.boxplot(train_data[train_data['TARGET'] == 1]['DAYS_EMPLOYED'].dropna()/ 365, vert = False)\n",
    "plt.show()\n",
    "print((train_data[train_data['TARGET'] == 1]['DAYS_EMPLOYED'].dropna()/ 365).describe())"
   ]
  },
  {
   "cell_type": "markdown",
   "metadata": {},
   "source": [
    "Мы подправили качество данных, однако от этого переменная не стала заметно различать более опытных от менее отпытных. Попробуем произвести следующую модификацию: найти отношение опыта работы к возрасту."
   ]
  },
  {
   "cell_type": "code",
   "execution_count": null,
   "metadata": {
    "execution": {
     "iopub.execute_input": "2022-12-06T12:00:25.189748Z",
     "iopub.status.busy": "2022-12-06T12:00:25.188981Z",
     "iopub.status.idle": "2022-12-06T12:00:25.287182Z",
     "shell.execute_reply": "2022-12-06T12:00:25.285853Z",
     "shell.execute_reply.started": "2022-12-06T12:00:25.189699Z"
    }
   },
   "outputs": [],
   "source": [
    "train_data['DAYS_EMPLOYED_FRAC'] = train_data['DAYS_EMPLOYED'] / train_data['DAYS_BIRTH']\n",
    "test_data['DAYS_EMPLOYED_FRAC'] = test_data['DAYS_EMPLOYED'] / test_data['DAYS_BIRTH']\n",
    "train_data.head()"
   ]
  },
  {
   "cell_type": "code",
   "execution_count": null,
   "metadata": {
    "execution": {
     "iopub.execute_input": "2022-12-06T12:00:25.290312Z",
     "iopub.status.busy": "2022-12-06T12:00:25.289346Z",
     "iopub.status.idle": "2022-12-06T12:00:26.212475Z",
     "shell.execute_reply": "2022-12-06T12:00:26.211124Z",
     "shell.execute_reply.started": "2022-12-06T12:00:25.290263Z"
    }
   },
   "outputs": [],
   "source": [
    "plt.boxplot(train_data[train_data['TARGET'] == 0]['DAYS_EMPLOYED_FRAC'].dropna(), vert=False)\n",
    "plt.show()\n",
    "print(train_data[train_data['TARGET'] == 0]['DAYS_EMPLOYED_FRAC'].describe())\n",
    "\n",
    "\n",
    "plt.boxplot(train_data[train_data['TARGET'] == 1]['DAYS_EMPLOYED_FRAC'].dropna(), vert=False)\n",
    "plt.show()\n",
    "print(train_data[train_data['TARGET'] == 1]['DAYS_EMPLOYED_FRAC'].describe())"
   ]
  },
  {
   "cell_type": "code",
   "execution_count": null,
   "metadata": {
    "execution": {
     "iopub.execute_input": "2022-12-06T12:00:26.214699Z",
     "iopub.status.busy": "2022-12-06T12:00:26.214011Z",
     "iopub.status.idle": "2022-12-06T12:00:26.231081Z",
     "shell.execute_reply": "2022-12-06T12:00:26.229621Z",
     "shell.execute_reply.started": "2022-12-06T12:00:26.214651Z"
    }
   },
   "outputs": [],
   "source": [
    "pearson_coef, p_value = stats.pearsonr(train_data['DAYS_EMPLOYED_FRAC'], \\\n",
    "                                       train_data['TARGET'])\n",
    "pearson_coef, p_value"
   ]
  },
  {
   "cell_type": "markdown",
   "metadata": {},
   "source": [
    "Переменная стала чуть сильнее, чем DAYS_EMPLOYED, однако возраст всё же более сильная фича"
   ]
  },
  {
   "cell_type": "markdown",
   "metadata": {},
   "source": [
    "### EXT_SOURCES"
   ]
  },
  {
   "cell_type": "code",
   "execution_count": null,
   "metadata": {
    "execution": {
     "iopub.execute_input": "2022-12-06T12:00:26.234103Z",
     "iopub.status.busy": "2022-12-06T12:00:26.233525Z",
     "iopub.status.idle": "2022-12-06T12:00:26.292970Z",
     "shell.execute_reply": "2022-12-06T12:00:26.291389Z",
     "shell.execute_reply.started": "2022-12-06T12:00:26.234058Z"
    }
   },
   "outputs": [],
   "source": [
    "ext_sources_stats = train_data[['TARGET', 'EXT_SOURCE_1', 'EXT_SOURCE_2', 'EXT_SOURCE_3']].corr()"
   ]
  },
  {
   "cell_type": "code",
   "execution_count": null,
   "metadata": {
    "execution": {
     "iopub.execute_input": "2022-12-06T12:00:26.295759Z",
     "iopub.status.busy": "2022-12-06T12:00:26.294971Z",
     "iopub.status.idle": "2022-12-06T12:00:26.312597Z",
     "shell.execute_reply": "2022-12-06T12:00:26.311147Z",
     "shell.execute_reply.started": "2022-12-06T12:00:26.295705Z"
    }
   },
   "outputs": [],
   "source": [
    "ext_sources_stats"
   ]
  },
  {
   "cell_type": "markdown",
   "metadata": {},
   "source": [
    "Видим, что признаки коррелируют с целевой переменной, и видим автокорреляцию между ними. Она вполне объяснима: переменные однотипны. Это может повлиять на дальнейшее кач-во модели, скоро мы об этом узнаем."
   ]
  },
  {
   "cell_type": "markdown",
   "metadata": {},
   "source": [
    "# Моделирование"
   ]
  },
  {
   "cell_type": "markdown",
   "metadata": {},
   "source": [
    "В задачах с кредитным скорингом чаще всего используются алгоритмы классификации: регрессия, дерево решений. Модель, построенная на логистической регрессии, будет обладать чуть меньшей силой, однако будет более долговечной и не будет требовать частого внесения изменений, особенно при значительном изменении внешних факторов. Если речь о банке, то эти плюсы имеют особый вес, ведь там внедрение новых моделей происходит не так просто и быстро. \n",
    "\n",
    "Однако сейчас наша цель - построить максимально сильную модель, чтобы получить максимальный результат! Поэтому используем desicion tree ;)"
   ]
  },
  {
   "cell_type": "code",
   "execution_count": null,
   "metadata": {
    "execution": {
     "iopub.execute_input": "2022-12-06T12:00:26.315135Z",
     "iopub.status.busy": "2022-12-06T12:00:26.314342Z",
     "iopub.status.idle": "2022-12-06T12:00:26.324185Z",
     "shell.execute_reply": "2022-12-06T12:00:26.322841Z",
     "shell.execute_reply.started": "2022-12-06T12:00:26.315076Z"
    }
   },
   "outputs": [],
   "source": [
    "from sklearn.impute import SimpleImputer\n",
    "from sklearn.model_selection import train_test_split\n",
    "from sklearn.ensemble import RandomForestClassifier\n",
    "from sklearn.metrics import roc_auc_score\n",
    "\n"
   ]
  },
  {
   "cell_type": "code",
   "execution_count": null,
   "metadata": {
    "execution": {
     "iopub.execute_input": "2022-12-06T12:00:26.327090Z",
     "iopub.status.busy": "2022-12-06T12:00:26.326217Z",
     "iopub.status.idle": "2022-12-06T12:00:26.405576Z",
     "shell.execute_reply": "2022-12-06T12:00:26.404304Z",
     "shell.execute_reply.started": "2022-12-06T12:00:26.327042Z"
    }
   },
   "outputs": [],
   "source": [
    "if 'TARGET' in train_data:\n",
    "    train_labels = train_data['TARGET']\n",
    "    train_data = train_data.drop(columns=['TARGET'])\n",
    "    \n",
    "# train_modified = train.drop(columns=['SK_ID_CURR'])\n",
    "feature_names = list(train_data.columns)\n",
    "test_id = test_data['SK_ID_CURR']\n",
    "# test_modified = test.drop(columns=['SK_ID_CURR'])\n",
    "test_id"
   ]
  },
  {
   "cell_type": "markdown",
   "metadata": {},
   "source": [
    "Уберем все пропущенные значения, если что-то ещё не убрали"
   ]
  },
  {
   "cell_type": "code",
   "execution_count": null,
   "metadata": {
    "execution": {
     "iopub.execute_input": "2022-12-06T12:00:26.408761Z",
     "iopub.status.busy": "2022-12-06T12:00:26.406990Z",
     "iopub.status.idle": "2022-12-06T12:00:32.848017Z",
     "shell.execute_reply": "2022-12-06T12:00:32.846817Z",
     "shell.execute_reply.started": "2022-12-06T12:00:26.408711Z"
    }
   },
   "outputs": [],
   "source": [
    "imputer = SimpleImputer(strategy = 'median')\n",
    "imputer.fit(train_data)\n",
    "train_data = imputer.transform(train_data)\n",
    "test_data = imputer.transform(test_data)"
   ]
  },
  {
   "cell_type": "code",
   "execution_count": null,
   "metadata": {
    "execution": {
     "iopub.execute_input": "2022-12-06T12:00:32.849744Z",
     "iopub.status.busy": "2022-12-06T12:00:32.849254Z",
     "iopub.status.idle": "2022-12-06T12:00:33.483930Z",
     "shell.execute_reply": "2022-12-06T12:00:33.482649Z",
     "shell.execute_reply.started": "2022-12-06T12:00:32.849710Z"
    }
   },
   "outputs": [],
   "source": [
    "x_train, x_val, y_train, y_val = train_test_split(train_data, train_labels, random_state = 42)"
   ]
  },
  {
   "cell_type": "markdown",
   "metadata": {},
   "source": [
    "Ищем оптимальные параметры модели:"
   ]
  },
  {
   "cell_type": "code",
   "execution_count": null,
   "metadata": {
    "execution": {
     "iopub.execute_input": "2022-12-06T12:00:33.485989Z",
     "iopub.status.busy": "2022-12-06T12:00:33.485346Z",
     "iopub.status.idle": "2022-12-06T12:00:33.492384Z",
     "shell.execute_reply": "2022-12-06T12:00:33.491134Z",
     "shell.execute_reply.started": "2022-12-06T12:00:33.485951Z"
    }
   },
   "outputs": [],
   "source": [
    "import sys \n",
    "from sklearn.model_selection import GridSearchCV, KFold \n",
    "from keras.models import Sequential \n",
    "from keras.layers import Dense, Dropout \n",
    "from keras.wrappers.scikit_learn import KerasClassifier"
   ]
  },
  {
   "cell_type": "code",
   "execution_count": null,
   "metadata": {
    "execution": {
     "iopub.execute_input": "2022-12-06T12:00:33.495758Z",
     "iopub.status.busy": "2022-12-06T12:00:33.494156Z",
     "iopub.status.idle": "2022-12-06T12:00:33.508649Z",
     "shell.execute_reply": "2022-12-06T12:00:33.507476Z",
     "shell.execute_reply.started": "2022-12-06T12:00:33.495708Z"
    }
   },
   "outputs": [],
   "source": [
    "# params = {'n_estimators': [32, 64, 128, 256, 512]}\n",
    "# gs_clf = GridSearchCV(RandomForestClassifier(random_state=42, n_jobs=-1), params)\n",
    "# gs_clf.fit(x_train, y_train)\n",
    "# print(gs_clf.best_params_)"
   ]
  },
  {
   "cell_type": "markdown",
   "metadata": {},
   "source": [
    "Попробуем несколько видов моделей с разным кол-вом estimators"
   ]
  },
  {
   "cell_type": "code",
   "execution_count": null,
   "metadata": {
    "execution": {
     "iopub.execute_input": "2022-12-06T12:00:33.512491Z",
     "iopub.status.busy": "2022-12-06T12:00:33.511665Z",
     "iopub.status.idle": "2022-12-06T12:00:33.523103Z",
     "shell.execute_reply": "2022-12-06T12:00:33.522119Z",
     "shell.execute_reply.started": "2022-12-06T12:00:33.512439Z"
    }
   },
   "outputs": [],
   "source": [
    "# clf64 = RandomForestClassifier(n_estimators = 64, random_state=42, n_jobs=-1)\n",
    "# clf64.fit(x_train, y_train)"
   ]
  },
  {
   "cell_type": "code",
   "execution_count": null,
   "metadata": {
    "execution": {
     "iopub.execute_input": "2022-12-06T12:00:33.525023Z",
     "iopub.status.busy": "2022-12-06T12:00:33.524455Z",
     "iopub.status.idle": "2022-12-06T12:00:33.537443Z",
     "shell.execute_reply": "2022-12-06T12:00:33.536471Z",
     "shell.execute_reply.started": "2022-12-06T12:00:33.524989Z"
    }
   },
   "outputs": [],
   "source": [
    "# pred_train = clf64.predict_proba(x_train)[:, 1]\n",
    "# pred_val = clf64.predict_proba(x_val)[:, 1]\n",
    "# print('ROC-AUC train', roc_auc_score(y_train.values, pred_train))\n",
    "# print('ROC-AUC validation', roc_auc_score(y_val.values, pred_val))"
   ]
  },
  {
   "cell_type": "code",
   "execution_count": null,
   "metadata": {
    "execution": {
     "iopub.execute_input": "2022-12-06T12:00:33.539238Z",
     "iopub.status.busy": "2022-12-06T12:00:33.538830Z",
     "iopub.status.idle": "2022-12-06T12:01:26.045018Z",
     "shell.execute_reply": "2022-12-06T12:01:26.043710Z",
     "shell.execute_reply.started": "2022-12-06T12:00:33.539204Z"
    }
   },
   "outputs": [],
   "source": [
    "clf128 = RandomForestClassifier(n_estimators = 128, random_state = 42, n_jobs = -1)\n",
    "clf128.fit(x_train, y_train)\n",
    "\n",
    "pred_train = clf128.predict_proba(x_train)[:, 1]\n",
    "pred_val = clf128.predict_proba(x_val)[:, 1]\n",
    "print('ROC-AUC train', roc_auc_score(y_train.values, pred_train))\n",
    "print('ROC-AUC validation', roc_auc_score(y_val.values, pred_val))"
   ]
  },
  {
   "cell_type": "code",
   "execution_count": null,
   "metadata": {
    "execution": {
     "iopub.execute_input": "2022-12-06T12:01:26.046618Z",
     "iopub.status.busy": "2022-12-06T12:01:26.046227Z",
     "iopub.status.idle": "2022-12-06T12:01:26.050861Z",
     "shell.execute_reply": "2022-12-06T12:01:26.049715Z",
     "shell.execute_reply.started": "2022-12-06T12:01:26.046581Z"
    }
   },
   "outputs": [],
   "source": [
    "# clf256 = RandomForestClassifier(n_estimators = 256, random_state = 42, n_jobs = -1)\n",
    "# clf256.fit(x_train, y_train)\n",
    "\n",
    "# pred_train = clf256.predict_proba(x_train)[:, 1]\n",
    "# pred_val = clf256.predict_proba(x_val)[:, 1]\n",
    "# print('ROC-AUC train', roc_auc_score(y_train.values, pred_train))\n",
    "# print('ROC-AUC validation', roc_auc_score(y_val.values, pred_val))"
   ]
  },
  {
   "cell_type": "markdown",
   "metadata": {},
   "source": [
    "Мы хотим, чтобы площадь под ROC-кривой была равна единице, поэтому оставим n_estimators = 128"
   ]
  },
  {
   "cell_type": "code",
   "execution_count": null,
   "metadata": {
    "execution": {
     "iopub.execute_input": "2022-12-06T12:01:26.052444Z",
     "iopub.status.busy": "2022-12-06T12:01:26.052090Z",
     "iopub.status.idle": "2022-12-06T12:01:26.168481Z",
     "shell.execute_reply": "2022-12-06T12:01:26.167493Z",
     "shell.execute_reply.started": "2022-12-06T12:01:26.052387Z"
    }
   },
   "outputs": [],
   "source": [
    "feature_importance = pd.DataFrame({'feature': feature_names,\n",
    "                                   'importance': clf128.feature_importances_})"
   ]
  },
  {
   "cell_type": "code",
   "execution_count": null,
   "metadata": {
    "execution": {
     "iopub.execute_input": "2022-12-06T12:01:26.169796Z",
     "iopub.status.busy": "2022-12-06T12:01:26.169395Z",
     "iopub.status.idle": "2022-12-06T12:01:26.183089Z",
     "shell.execute_reply": "2022-12-06T12:01:26.181940Z",
     "shell.execute_reply.started": "2022-12-06T12:01:26.169743Z"
    }
   },
   "outputs": [],
   "source": [
    "feature_importance.sort_values(by = 'importance', ascending = False).head(10)"
   ]
  },
  {
   "cell_type": "markdown",
   "metadata": {},
   "source": [
    "EXT_SOURCE_2, EXT_SOURCE_3, DAYS_BIRTH, DAYS_EMPLOYED_FRAC,  DAYS_EMPLOYED, которые мы анализировали ранее, действительно имеют влияние на целевую переменную"
   ]
  },
  {
   "cell_type": "code",
   "execution_count": null,
   "metadata": {
    "execution": {
     "iopub.execute_input": "2022-12-06T12:01:26.184822Z",
     "iopub.status.busy": "2022-12-06T12:01:26.184480Z",
     "iopub.status.idle": "2022-12-06T12:01:27.296812Z",
     "shell.execute_reply": "2022-12-06T12:01:27.295529Z",
     "shell.execute_reply.started": "2022-12-06T12:01:26.184792Z"
    }
   },
   "outputs": [],
   "source": [
    "test_pred = clf128.predict_proba(test_data)[:, 1]\n",
    "\n",
    "sub = pd.DataFrame({'SK_ID_CURR': test_id, 'TARGET': test_pred})\n",
    "sub.to_csv('./Tayas_submission.csv', index = False)"
   ]
  }
 ],
 "metadata": {
  "kernelspec": {
   "display_name": "Python 3 (ipykernel)",
   "language": "python",
   "name": "python3"
  },
  "language_info": {
   "codemirror_mode": {
    "name": "ipython",
    "version": 3
   },
   "file_extension": ".py",
   "mimetype": "text/x-python",
   "name": "python",
   "nbconvert_exporter": "python",
   "pygments_lexer": "ipython3",
   "version": "3.7.6"
  }
 },
 "nbformat": 4,
 "nbformat_minor": 4
}
